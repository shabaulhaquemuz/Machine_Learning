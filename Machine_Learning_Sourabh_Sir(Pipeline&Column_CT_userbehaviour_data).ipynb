{
 "cells": [
  {
   "cell_type": "code",
   "execution_count": 23,
   "id": "07c00fbe-ddfb-4e30-a39e-12590c2744e3",
   "metadata": {},
   "outputs": [],
   "source": [
    "import numpy as np\n",
    "import pandas as pd"
   ]
  },
  {
   "cell_type": "code",
   "execution_count": 25,
   "id": "5ddb6d82-16e3-41fd-8232-e2219c53ff39",
   "metadata": {},
   "outputs": [],
   "source": [
    "df=pd.read_csv(\"userbehaviour.csv\")"
   ]
  },
  {
   "cell_type": "code",
   "execution_count": 27,
   "id": "6aec9792-e1e4-4880-95d1-65a1144d91e8",
   "metadata": {},
   "outputs": [
    {
     "data": {
      "text/html": [
       "<div>\n",
       "<style scoped>\n",
       "    .dataframe tbody tr th:only-of-type {\n",
       "        vertical-align: middle;\n",
       "    }\n",
       "\n",
       "    .dataframe tbody tr th {\n",
       "        vertical-align: top;\n",
       "    }\n",
       "\n",
       "    .dataframe thead th {\n",
       "        text-align: right;\n",
       "    }\n",
       "</style>\n",
       "<table border=\"1\" class=\"dataframe\">\n",
       "  <thead>\n",
       "    <tr style=\"text-align: right;\">\n",
       "      <th></th>\n",
       "      <th>userid</th>\n",
       "      <th>Average Screen Time</th>\n",
       "      <th>Average Spent on App (INR)</th>\n",
       "      <th>Left Review</th>\n",
       "      <th>Ratings</th>\n",
       "      <th>New Password Request</th>\n",
       "      <th>Last Visited Minutes</th>\n",
       "      <th>Status</th>\n",
       "    </tr>\n",
       "  </thead>\n",
       "  <tbody>\n",
       "    <tr>\n",
       "      <th>0</th>\n",
       "      <td>1001</td>\n",
       "      <td>17.0</td>\n",
       "      <td>634.0</td>\n",
       "      <td>1</td>\n",
       "      <td>9</td>\n",
       "      <td>7</td>\n",
       "      <td>2990</td>\n",
       "      <td>Installed</td>\n",
       "    </tr>\n",
       "    <tr>\n",
       "      <th>1</th>\n",
       "      <td>1002</td>\n",
       "      <td>0.0</td>\n",
       "      <td>54.0</td>\n",
       "      <td>0</td>\n",
       "      <td>4</td>\n",
       "      <td>8</td>\n",
       "      <td>24008</td>\n",
       "      <td>Uninstalled</td>\n",
       "    </tr>\n",
       "  </tbody>\n",
       "</table>\n",
       "</div>"
      ],
      "text/plain": [
       "   userid  Average Screen Time  Average Spent on App (INR)  Left Review  \\\n",
       "0    1001                 17.0                       634.0            1   \n",
       "1    1002                  0.0                        54.0            0   \n",
       "\n",
       "   Ratings  New Password Request  Last Visited Minutes       Status  \n",
       "0        9                     7                  2990    Installed  \n",
       "1        4                     8                 24008  Uninstalled  "
      ]
     },
     "execution_count": 27,
     "metadata": {},
     "output_type": "execute_result"
    }
   ],
   "source": [
    "df.head(2)"
   ]
  },
  {
   "cell_type": "code",
   "execution_count": 29,
   "id": "9296b706-d29f-41b8-86f4-ff94a2f7a656",
   "metadata": {},
   "outputs": [
    {
     "data": {
      "text/plain": [
       "userid                        0\n",
       "Average Screen Time           0\n",
       "Average Spent on App (INR)    0\n",
       "Left Review                   0\n",
       "Ratings                       0\n",
       "New Password Request          0\n",
       "Last Visited Minutes          0\n",
       "Status                        0\n",
       "dtype: int64"
      ]
     },
     "execution_count": 29,
     "metadata": {},
     "output_type": "execute_result"
    }
   ],
   "source": [
    "df.isnull().sum()"
   ]
  },
  {
   "cell_type": "code",
   "execution_count": 31,
   "id": "0cc63b42-9611-4b73-8805-ee7f55b5d59c",
   "metadata": {},
   "outputs": [],
   "source": [
    "from sklearn.compose import ColumnTransformer\n",
    "from sklearn.pipeline import Pipeline\n",
    "from sklearn.preprocessing import StandardScaler, OneHotEncoder\n",
    "from sklearn.model_selection import train_test_split"
   ]
  },
  {
   "cell_type": "code",
   "execution_count": 33,
   "id": "341baa8f-6dad-4543-80d4-0ceb43078408",
   "metadata": {},
   "outputs": [],
   "source": [
    "X = df.drop(columns = ['Status'])\n",
    "y = df [\"Status\"]\n",
    "X_train, X_test, y_train, y_test = train_test_split(X,y, test_size=0.2,random_state=42)"
   ]
  },
  {
   "cell_type": "code",
   "execution_count": 35,
   "id": "d99896d5-63b3-46b8-8984-1ca724a46f04",
   "metadata": {},
   "outputs": [],
   "source": [
    "numeric_features = ['userid','Average Screen Time',\"Average Spent on App (INR)\",\"Left Review\", \"Ratings\",\"New Password Request\",\"Last Visited Minutes\"]"
   ]
  },
  {
   "cell_type": "code",
   "execution_count": 37,
   "id": "1cce7df3-fc5f-4acf-93c3-d36221aaeafc",
   "metadata": {},
   "outputs": [],
   "source": [
    "numeric_transformer = Pipeline (steps=[\n",
    "    ('scaler', StandardScaler())\n",
    "    ])"
   ]
  },
  {
   "cell_type": "code",
   "execution_count": 39,
   "id": "0a54d3a0-774e-47df-89e5-de54038c062a",
   "metadata": {},
   "outputs": [],
   "source": [
    "preprocessor = ColumnTransformer(\n",
    "transformers=[\n",
    "('numeric', numeric_transformer, numeric_features)\n",
    "])"
   ]
  },
  {
   "cell_type": "code",
   "execution_count": 41,
   "id": "1bb424b1-1877-483b-8df7-a5baedacd538",
   "metadata": {},
   "outputs": [
    {
     "data": {
      "text/plain": [
       "array([[ 0.97176011, -0.21513715,  1.49054762, ...,  0.19846576,\n",
       "         0.7300156 , -0.02997633],\n",
       "       [-0.72683245,  0.41297948, -0.02347523, ..., -0.53737712,\n",
       "        -0.33436846, -0.2513882 ],\n",
       "       [-1.14457574,  0.34318874, -1.05720931, ...,  0.19846576,\n",
       "         1.08481029, -0.22371171],\n",
       "       ...,\n",
       "       [ 1.25485887, -0.28492789,  1.81180036, ...,  1.30223007,\n",
       "         0.02042623, -0.03134307],\n",
       "       [-0.21242129, -1.19220747, -1.31802837, ..., -0.90529855,\n",
       "         0.7300156 , -0.13043172],\n",
       "       [-1.36207845,  1.59942201,  1.29334296, ..., -0.53737712,\n",
       "        -0.68916315, -0.09694659]])"
      ]
     },
     "execution_count": 41,
     "metadata": {},
     "output_type": "execute_result"
    }
   ],
   "source": [
    "preprocessor.fit_transform(X_train)"
   ]
  },
  {
   "cell_type": "code",
   "execution_count": null,
   "id": "2194ec2b-4868-4b2f-b801-4830c20982a2",
   "metadata": {},
   "outputs": [],
   "source": []
  },
  {
   "cell_type": "code",
   "execution_count": null,
   "id": "ca74c289-3a04-45d3-9025-4d11814248b2",
   "metadata": {},
   "outputs": [],
   "source": []
  }
 ],
 "metadata": {
  "kernelspec": {
   "display_name": "Python 3 (ipykernel)",
   "language": "python",
   "name": "python3"
  },
  "language_info": {
   "codemirror_mode": {
    "name": "ipython",
    "version": 3
   },
   "file_extension": ".py",
   "mimetype": "text/x-python",
   "name": "python",
   "nbconvert_exporter": "python",
   "pygments_lexer": "ipython3",
   "version": "3.12.4"
  }
 },
 "nbformat": 4,
 "nbformat_minor": 5
}
