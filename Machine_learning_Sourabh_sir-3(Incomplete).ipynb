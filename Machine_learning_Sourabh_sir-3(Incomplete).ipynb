{
 "cells": [
  {
   "cell_type": "code",
   "execution_count": 1,
   "id": "1596d35b-c071-47d2-9aa2-39a5872d4f97",
   "metadata": {},
   "outputs": [],
   "source": [
    "#encoding and its types\n",
    "#encoding is the process of converting categorical or textual data into a numerical format so that a computer can understand and process it.\n",
    "#Types of Encoding:"
   ]
  },
  {
   "cell_type": "code",
   "execution_count": 18,
   "id": "21f6a46f-bf29-47d8-84c4-1727328f26f5",
   "metadata": {},
   "outputs": [],
   "source": [
    "# 1.Label Encoding:\n",
    "# It is a technique in Machine Learning used to convert categorical values into numerical values by assigning each unique category a unique integer.\n",
    "#Usage: It is designed to work on one column at a time\n",
    "\n",
    "import numpy as np\n",
    "import pandas as pd\n",
    "\n",
    "from sklearn.preprocessing import LabelEncoder\n",
    "\n",
    "dataset={\n",
    "        \"id\":[1,2,3,4,5],\n",
    "        \"color\":[\"red\",\"yellow\",\"orange\",\"blue\",\"green\"],\n",
    "        \"size\":[\"medium\",\"small\",\"large\",\"extra_large\",\"extra_small\"],\n",
    "        \"price\":[150,200,250,300,350]\n",
    "}\n",
    "df=pd.DataFrame(dataset)"
   ]
  },
  {
   "cell_type": "code",
   "execution_count": 20,
   "id": "250c704c-f939-44ee-bf3b-01b32b7ad578",
   "metadata": {},
   "outputs": [
    {
     "name": "stdout",
     "output_type": "stream",
     "text": [
      "before encoding:\n",
      "   id   color         size  price\n",
      "0   1     red       medium    150\n",
      "1   2  yellow        small    200\n",
      "2   3  orange        large    250\n",
      "3   4    blue  extra_large    300\n",
      "4   5   green  extra_small    350\n"
     ]
    }
   ],
   "source": [
    "print(\"before encoding:\")\n",
    "print(df)"
   ]
  },
  {
   "cell_type": "code",
   "execution_count": 22,
   "id": "146be7ce-391a-4e5c-a7a9-2b483c8bf2c9",
   "metadata": {},
   "outputs": [
    {
     "name": "stdout",
     "output_type": "stream",
     "text": [
      "after label encoding:\n",
      "   id  color  size  price\n",
      "0   1      3     3    150\n",
      "1   2      4     4    200\n",
      "2   3      2     2    250\n",
      "3   4      0     0    300\n",
      "4   5      1     1    350\n"
     ]
    }
   ],
   "source": [
    "# Create LabelEncoder objects\n",
    "color_encoder=LabelEncoder()\n",
    "size_encoder=LabelEncoder()\n",
    "\n",
    "#Apply label encoding\n",
    "df[\"color\"]=color_encoder.fit_transform(df[\"color\"])\n",
    "df[\"size\"]=size_encoder.fit_transform(df[\"size\"])\n",
    "print(\"after label encoding:\")\n",
    "print(df)"
   ]
  },
  {
   "cell_type": "code",
   "execution_count": 40,
   "id": "dca471cc-3aa9-4c99-9373-4d95db532251",
   "metadata": {},
   "outputs": [],
   "source": [
    "# 2.Ordinal Encoding\n",
    "# OrdinalEncoder is an encoding technique in ML that converts multiple categorical columns into unique integers in one go, \n",
    "# and is especially useful when the categories have an inherent order"
   ]
  },
  {
   "cell_type": "code",
   "execution_count": 42,
   "id": "1bf735a9-a9f4-4367-b08a-d874c771f9b2",
   "metadata": {},
   "outputs": [],
   "source": [
    "import numpy as np\n",
    "import pandas as pd\n",
    "df1=pd.read_csv(\"covid_toy.csv\")"
   ]
  },
  {
   "cell_type": "code",
   "execution_count": 92,
   "id": "e984b776-02a7-41e6-a354-ec6708ff4643",
   "metadata": {},
   "outputs": [
    {
     "name": "stdout",
     "output_type": "stream",
     "text": [
      "before encoding:\n"
     ]
    },
    {
     "data": {
      "text/html": [
       "<div>\n",
       "<style scoped>\n",
       "    .dataframe tbody tr th:only-of-type {\n",
       "        vertical-align: middle;\n",
       "    }\n",
       "\n",
       "    .dataframe tbody tr th {\n",
       "        vertical-align: top;\n",
       "    }\n",
       "\n",
       "    .dataframe thead th {\n",
       "        text-align: right;\n",
       "    }\n",
       "</style>\n",
       "<table border=\"1\" class=\"dataframe\">\n",
       "  <thead>\n",
       "    <tr style=\"text-align: right;\">\n",
       "      <th></th>\n",
       "      <th>age</th>\n",
       "      <th>gender</th>\n",
       "      <th>fever</th>\n",
       "      <th>cough</th>\n",
       "      <th>city</th>\n",
       "      <th>has_covid</th>\n",
       "    </tr>\n",
       "  </thead>\n",
       "  <tbody>\n",
       "    <tr>\n",
       "      <th>0</th>\n",
       "      <td>60</td>\n",
       "      <td>0.0</td>\n",
       "      <td>103.0</td>\n",
       "      <td>0.0</td>\n",
       "      <td>0.0</td>\n",
       "      <td>0.0</td>\n",
       "    </tr>\n",
       "    <tr>\n",
       "      <th>1</th>\n",
       "      <td>27</td>\n",
       "      <td>0.0</td>\n",
       "      <td>100.0</td>\n",
       "      <td>0.0</td>\n",
       "      <td>1.0</td>\n",
       "      <td>1.0</td>\n",
       "    </tr>\n",
       "    <tr>\n",
       "      <th>2</th>\n",
       "      <td>42</td>\n",
       "      <td>0.0</td>\n",
       "      <td>101.0</td>\n",
       "      <td>0.0</td>\n",
       "      <td>1.0</td>\n",
       "      <td>0.0</td>\n",
       "    </tr>\n",
       "    <tr>\n",
       "      <th>3</th>\n",
       "      <td>31</td>\n",
       "      <td>1.0</td>\n",
       "      <td>98.0</td>\n",
       "      <td>0.0</td>\n",
       "      <td>0.0</td>\n",
       "      <td>0.0</td>\n",
       "    </tr>\n",
       "    <tr>\n",
       "      <th>4</th>\n",
       "      <td>65</td>\n",
       "      <td>1.0</td>\n",
       "      <td>101.0</td>\n",
       "      <td>0.0</td>\n",
       "      <td>2.0</td>\n",
       "      <td>0.0</td>\n",
       "    </tr>\n",
       "  </tbody>\n",
       "</table>\n",
       "</div>"
      ],
      "text/plain": [
       "   age  gender  fever  cough  city  has_covid\n",
       "0   60     0.0  103.0    0.0   0.0        0.0\n",
       "1   27     0.0  100.0    0.0   1.0        1.0\n",
       "2   42     0.0  101.0    0.0   1.0        0.0\n",
       "3   31     1.0   98.0    0.0   0.0        0.0\n",
       "4   65     1.0  101.0    0.0   2.0        0.0"
      ]
     },
     "execution_count": 92,
     "metadata": {},
     "output_type": "execute_result"
    }
   ],
   "source": [
    "print(\"before encoding:\")\n",
    "df1.head(5)"
   ]
  },
  {
   "cell_type": "code",
   "execution_count": 50,
   "id": "95ce0885-7643-4a49-ad6c-6d302067ee0d",
   "metadata": {},
   "outputs": [],
   "source": [
    "df1=df1.dropna()"
   ]
  },
  {
   "cell_type": "code",
   "execution_count": 52,
   "id": "d467d1b6-a0f7-467f-b784-8d304495eae5",
   "metadata": {},
   "outputs": [],
   "source": [
    "from sklearn.preprocessing import OrdinalEncoder"
   ]
  },
  {
   "cell_type": "code",
   "execution_count": 76,
   "id": "bbbc1c35-622e-4a56-8097-2c771b79f789",
   "metadata": {},
   "outputs": [],
   "source": [
    "oe=OrdinalEncoder(categories=[[\"Male\",\"Female\"],\n",
    "                            [\"Mild\",\"Strong\"],\n",
    "                              [\"Kolkata\",\"Delhi\",\"Mumbai\",\"Bangalore\"],\n",
    "                              [\"No\",\"Yes\"]\n",
    "                             ])\n",
    "\n",
    "#categories passed should be in sequential format"
   ]
  },
  {
   "cell_type": "code",
   "execution_count": 78,
   "id": "03992c36-4007-48e3-8e26-3bb55d7c36a9",
   "metadata": {},
   "outputs": [],
   "source": [
    "categorical_columns=[\"gender\",\"cough\",\"city\",\"has_covid\"]"
   ]
  },
  {
   "cell_type": "code",
   "execution_count": 84,
   "id": "3d4abd99-dfba-47ac-8cf8-72d0314de73d",
   "metadata": {},
   "outputs": [],
   "source": [
    "df1[categorical_columns]=oe.fit_transform(df1[categorical_columns])"
   ]
  },
  {
   "cell_type": "code",
   "execution_count": 90,
   "id": "8eda6bbf-3615-4c50-9af1-ae7316d872a4",
   "metadata": {},
   "outputs": [
    {
     "name": "stdout",
     "output_type": "stream",
     "text": [
      "after encoding:\n",
      "    age  gender  fever  cough  city  has_covid\n",
      "0    60     0.0  103.0    0.0   0.0        0.0\n",
      "1    27     0.0  100.0    0.0   1.0        1.0\n",
      "2    42     0.0  101.0    0.0   1.0        0.0\n",
      "3    31     1.0   98.0    0.0   0.0        0.0\n",
      "4    65     1.0  101.0    0.0   2.0        0.0\n",
      "..  ...     ...    ...    ...   ...        ...\n",
      "95   12     1.0  104.0    0.0   3.0        0.0\n",
      "96   51     1.0  101.0    1.0   0.0        1.0\n",
      "97   20     1.0  101.0    0.0   3.0        0.0\n",
      "98    5     1.0   98.0    1.0   2.0        0.0\n",
      "99   10     1.0   98.0    1.0   0.0        1.0\n",
      "\n",
      "[90 rows x 6 columns]\n"
     ]
    }
   ],
   "source": [
    "print(\"after encoding:\")\n",
    "print(df1)"
   ]
  },
  {
   "cell_type": "code",
   "execution_count": 94,
   "id": "0da97b4f-fcf6-41ca-8123-e411dc96231d",
   "metadata": {},
   "outputs": [],
   "source": [
    "# 3.OneHot Encoding:\n",
    "# One-Hot Encoding is a method to convert categorical data into a binary (0/1) format where:\n",
    "# Each unique category in a column becomes its own new column.\n",
    "\n",
    "#Due to creation of so many columns and training datasets is large and overfittibg happens here so, for that purpose we use drop=\"first\" to reduce,\n",
    "# 1 column from each category\n"
   ]
  },
  {
   "cell_type": "code",
   "execution_count": 126,
   "id": "059849f0-d65e-44b6-bd05-da2839a7fc58",
   "metadata": {},
   "outputs": [],
   "source": [
    "import numpy as np\n",
    "import pandas as pd"
   ]
  },
  {
   "cell_type": "code",
   "execution_count": 128,
   "id": "c60d67f1-e91d-4879-bfb9-3025b1e29495",
   "metadata": {},
   "outputs": [],
   "source": [
    "dfhot=pd.read_csv(\"covid_toy.csv\")"
   ]
  },
  {
   "cell_type": "code",
   "execution_count": 130,
   "id": "4fc168b2-653e-4874-b487-09d727d9555a",
   "metadata": {},
   "outputs": [
    {
     "name": "stdout",
     "output_type": "stream",
     "text": [
      "before encoding:\n",
      "   age  gender  fever cough     city has_covid\n",
      "0   60    Male  103.0  Mild  Kolkata        No\n",
      "1   27    Male  100.0  Mild    Delhi       Yes\n",
      "2   42    Male  101.0  Mild    Delhi        No\n",
      "3   31  Female   98.0  Mild  Kolkata        No\n",
      "4   65  Female  101.0  Mild   Mumbai        No\n"
     ]
    }
   ],
   "source": [
    "print(\"before encoding:\")\n",
    "print(dfhot.head(5))"
   ]
  },
  {
   "cell_type": "code",
   "execution_count": 132,
   "id": "42e34c9d-404e-484c-b348-d39f35f10a7e",
   "metadata": {},
   "outputs": [],
   "source": [
    "from sklearn.preprocessing import OneHotEncoder"
   ]
  },
  {
   "cell_type": "code",
   "execution_count": 134,
   "id": "a7da3866-7dd8-4df1-b226-7e534678f9a0",
   "metadata": {},
   "outputs": [],
   "source": [
    "ohe=OneHotEncoder(drop=\"first\",sparse_output=False,dtype=np.int32)"
   ]
  },
  {
   "cell_type": "code",
   "execution_count": 140,
   "id": "b086d89c-73f1-4577-bd08-551abe01979e",
   "metadata": {},
   "outputs": [
    {
     "data": {
      "text/plain": [
       "array([[1, 0, 0, 1, 0, 0],\n",
       "       [1, 0, 1, 0, 0, 1],\n",
       "       [1, 0, 1, 0, 0, 0],\n",
       "       [0, 0, 0, 1, 0, 0],\n",
       "       [0, 0, 0, 0, 1, 0],\n",
       "       [0, 0, 0, 0, 0, 1],\n",
       "       [1, 1, 0, 0, 0, 0],\n",
       "       [0, 1, 0, 0, 1, 1],\n",
       "       [0, 1, 0, 0, 0, 0],\n",
       "       [0, 0, 1, 0, 0, 0],\n",
       "       [0, 0, 1, 0, 0, 0],\n",
       "       [0, 0, 0, 0, 1, 1],\n",
       "       [0, 1, 0, 1, 0, 0],\n",
       "       [1, 0, 0, 0, 0, 1],\n",
       "       [1, 0, 0, 0, 0, 0],\n",
       "       [1, 1, 0, 1, 0, 1],\n",
       "       [0, 0, 0, 1, 0, 1],\n",
       "       [0, 1, 1, 0, 0, 0],\n",
       "       [0, 0, 0, 0, 0, 1],\n",
       "       [0, 1, 0, 0, 0, 1],\n",
       "       [1, 1, 0, 0, 0, 0],\n",
       "       [1, 0, 0, 0, 0, 1],\n",
       "       [0, 1, 0, 1, 0, 1],\n",
       "       [0, 0, 1, 0, 0, 1],\n",
       "       [0, 1, 0, 1, 0, 0],\n",
       "       [1, 0, 0, 0, 1, 0],\n",
       "       [0, 0, 0, 1, 0, 1],\n",
       "       [0, 1, 1, 0, 0, 0],\n",
       "       [1, 0, 0, 1, 0, 0],\n",
       "       [0, 1, 0, 0, 1, 1],\n",
       "       [1, 0, 1, 0, 0, 1],\n",
       "       [1, 0, 0, 1, 0, 0],\n",
       "       [0, 1, 1, 0, 0, 1],\n",
       "       [0, 0, 0, 1, 0, 0],\n",
       "       [1, 0, 0, 0, 1, 1],\n",
       "       [0, 1, 0, 0, 0, 0],\n",
       "       [0, 0, 0, 0, 0, 0],\n",
       "       [1, 0, 0, 1, 0, 0],\n",
       "       [0, 0, 1, 0, 0, 1],\n",
       "       [0, 0, 0, 1, 0, 0],\n",
       "       [0, 0, 1, 0, 0, 0],\n",
       "       [1, 0, 0, 1, 0, 1],\n",
       "       [1, 0, 1, 0, 0, 1],\n",
       "       [0, 0, 0, 0, 0, 1],\n",
       "       [1, 1, 1, 0, 0, 0],\n",
       "       [1, 0, 0, 0, 0, 0],\n",
       "       [0, 0, 0, 0, 1, 0],\n",
       "       [0, 0, 0, 0, 0, 0],\n",
       "       [1, 1, 0, 0, 0, 0],\n",
       "       [1, 0, 0, 0, 1, 0],\n",
       "       [1, 0, 1, 0, 0, 1],\n",
       "       [0, 1, 0, 1, 0, 1],\n",
       "       [0, 1, 0, 0, 0, 1],\n",
       "       [1, 0, 1, 0, 0, 1],\n",
       "       [0, 0, 0, 0, 1, 1],\n",
       "       [0, 0, 0, 0, 1, 1],\n",
       "       [1, 1, 0, 1, 0, 0],\n",
       "       [0, 1, 0, 0, 0, 0],\n",
       "       [1, 1, 0, 0, 1, 1],\n",
       "       [0, 0, 0, 1, 0, 1],\n",
       "       [0, 1, 0, 0, 0, 1],\n",
       "       [0, 1, 0, 0, 1, 0],\n",
       "       [0, 1, 0, 0, 0, 1],\n",
       "       [1, 0, 0, 0, 0, 0],\n",
       "       [1, 0, 0, 0, 1, 0],\n",
       "       [0, 0, 0, 0, 0, 0],\n",
       "       [1, 0, 0, 1, 0, 0],\n",
       "       [1, 0, 0, 0, 0, 0],\n",
       "       [0, 1, 0, 1, 0, 0],\n",
       "       [0, 0, 1, 0, 0, 0],\n",
       "       [0, 1, 1, 0, 0, 0],\n",
       "       [0, 1, 1, 0, 0, 0],\n",
       "       [0, 0, 0, 1, 0, 0],\n",
       "       [1, 1, 0, 1, 0, 1],\n",
       "       [0, 1, 1, 0, 0, 0],\n",
       "       [1, 0, 0, 1, 0, 1],\n",
       "       [1, 0, 0, 0, 0, 1],\n",
       "       [0, 0, 0, 1, 0, 0],\n",
       "       [1, 0, 0, 0, 0, 1],\n",
       "       [0, 0, 0, 1, 0, 1],\n",
       "       [0, 0, 0, 0, 1, 1],\n",
       "       [1, 0, 1, 0, 0, 0],\n",
       "       [1, 0, 0, 1, 0, 1],\n",
       "       [0, 0, 0, 1, 0, 0],\n",
       "       [0, 1, 0, 0, 1, 0],\n",
       "       [0, 0, 0, 0, 0, 1],\n",
       "       [1, 0, 0, 0, 0, 1],\n",
       "       [1, 1, 0, 0, 0, 0],\n",
       "       [0, 0, 0, 1, 0, 0],\n",
       "       [1, 1, 0, 0, 0, 0],\n",
       "       [0, 1, 1, 0, 0, 0],\n",
       "       [1, 0, 1, 0, 0, 1],\n",
       "       [0, 1, 0, 1, 0, 0],\n",
       "       [1, 0, 0, 1, 0, 1],\n",
       "       [1, 1, 0, 1, 0, 1],\n",
       "       [0, 0, 0, 0, 0, 0],\n",
       "       [0, 1, 0, 1, 0, 1],\n",
       "       [0, 0, 0, 0, 0, 0],\n",
       "       [0, 1, 0, 0, 1, 0],\n",
       "       [0, 1, 0, 1, 0, 1]])"
      ]
     },
     "execution_count": 140,
     "metadata": {},
     "output_type": "execute_result"
    }
   ],
   "source": [
    "ohe.fit_transform(dfhot[[\"gender\",\"cough\",\"city\",\"has_covid\"]])\n",
    "#if drop=\"first\" was not mentioned, the result would have been (90,10) but now its (90,6) reducing chances of overfitting"
   ]
  },
  {
   "cell_type": "code",
   "execution_count": null,
   "id": "6fee2d5f-58a6-4403-b78d-d416d4cf83d4",
   "metadata": {},
   "outputs": [],
   "source": []
  }
 ],
 "metadata": {
  "kernelspec": {
   "display_name": "Python 3 (ipykernel)",
   "language": "python",
   "name": "python3"
  },
  "language_info": {
   "codemirror_mode": {
    "name": "ipython",
    "version": 3
   },
   "file_extension": ".py",
   "mimetype": "text/x-python",
   "name": "python",
   "nbconvert_exporter": "python",
   "pygments_lexer": "ipython3",
   "version": "3.12.4"
  }
 },
 "nbformat": 4,
 "nbformat_minor": 5
}
