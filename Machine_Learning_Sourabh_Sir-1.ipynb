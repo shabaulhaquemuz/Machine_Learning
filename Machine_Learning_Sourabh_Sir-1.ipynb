{
 "cells": [
  {
   "cell_type": "code",
   "execution_count": 1,
   "id": "7584bb4b-0315-4ffa-bb50-13e01a7d59dc",
   "metadata": {},
   "outputs": [],
   "source": [
    "#Introduction to Machine Learning:\n",
    "# Machine Learning is a branch of Artificial Intelligence (AI) that enables computers or systems to automatically learn from experience(data)\n",
    "# and improve their performance on a task without being explicitly programmed.\n",
    "\n",
    "#Steps to Train a Machine Learning Model:\n",
    "#1. Import Libraries\n",
    "#2. Load and Understand the Data\n",
    "#3. Data Cleaning and Preprocessing\n",
    "    #Handle missing values\n",
    "    # Encode categorical variables\n",
    "    # Normalize or scale values\n",
    "    # Split into features (X) and target (y)\n",
    "#4. Split the Data  :   Split the dataset into training and testing sets (e.g., 80%-20%)\n",
    "#5. Model selection: Pick a model suitable for your task (e.g., classification or regression).\n",
    "#6. Model Training: Fit the model on the training data.(model.fit(X_train, y_train))\n",
    "#7. Model Evaluation: to check the model accuracy\n",
    "#8. Improve the Model (Optional):\n",
    "          # Trying different models\n",
    "          # Tuning\n",
    "          # Feature engineering\n",
    "          # Using more data\n",
    "\n"
   ]
  },
  {
   "cell_type": "code",
   "execution_count": 3,
   "id": "24615eec-c95a-4e07-b19b-1e47f0b79f65",
   "metadata": {},
   "outputs": [],
   "source": [
    "#Feature Engineering:\n",
    "# Feature Engineering is the process of selecting, transforming, or creating input features from raw data \n",
    "# to improve the performance of a machine learning model.\n",
    "#It includes parts of data preprocessing and data cleaning"
   ]
  },
  {
   "cell_type": "code",
   "execution_count": 12,
   "id": "ba80abb8-0b28-413a-8ba5-6d94109446f3",
   "metadata": {},
   "outputs": [],
   "source": [
    "# Standardization is the process of transforming numerical features in a dataset so that they have:\n",
    "# a mean (μ) of 0, and\n",
    "# a standard deviation (σ) of 1\n",
    "\n",
    "# Standardization Formula:\n",
    "# z=(𝑥-μ)/𝜎\n",
    "\n",
    "\n",
    "# Where:\n",
    "# 𝑥: original feature value\n",
    "# 𝜇: mean of the feature\n",
    "# 𝜎: standard deviation of the feature\n",
    "# 𝑧: standardized value"
   ]
  },
  {
   "cell_type": "code",
   "execution_count": null,
   "id": "29a6e228-c918-448f-90e3-60db02393263",
   "metadata": {},
   "outputs": [],
   "source": [
    "#Normalization: Normalization is a data preprocessing technique used to rescale numerical features so that they fall within a \n",
    "#specific range, typically [0, 1].\n",
    "\n",
    "#Normalization is the process of transforming features so that they fall within a fixed range (usually 0 to 1), using the formula:"
   ]
  },
  {
   "cell_type": "code",
   "execution_count": null,
   "id": "7254208d-0f56-42a8-9392-c620d1365411",
   "metadata": {},
   "outputs": [],
   "source": [
    "# | Technique           | Range Target     | Use Case                          |\n",
    "# | ------------------- | ---------------- | --------------------------------- |\n",
    "# | **Standardization** | Mean = 0, SD = 1 | When data is normally distributed |\n",
    "# | **Normalization**   | Range \\[0, 1]    | When you need bounded values      |\n"
   ]
  },
  {
   "cell_type": "code",
   "execution_count": null,
   "id": "b5cf418c-02d8-4f8d-a584-cf4b73792d74",
   "metadata": {},
   "outputs": [],
   "source": [
    "#1.Data Dividation:\n",
    "#after data collection and data preprocesssing, data dividation is done.\n",
    "#THe dataaframe is dividedinto two parts: 1. input(x) 2.target(y) where(df=input+target)\n",
    "#from x, x_train,x_test is created   ..... x is independent data\n",
    "#from y,y_train,y_test is created    ..... y is dependent data\n",
    "#we divide data in two parts: training and testimg data.. where majority data is for training and minority data is for testing"
   ]
  },
  {
   "cell_type": "code",
   "execution_count": 2,
   "id": "1975adca-4e65-4887-a403-51c6fdf7c2ea",
   "metadata": {},
   "outputs": [],
   "source": [
    "import numpy as np\n",
    "import pandas as pd"
   ]
  },
  {
   "cell_type": "code",
   "execution_count": 6,
   "id": "3b65f947-dc21-4498-8ce9-17764be34a24",
   "metadata": {},
   "outputs": [
    {
     "data": {
      "text/html": [
       "<div>\n",
       "<style scoped>\n",
       "    .dataframe tbody tr th:only-of-type {\n",
       "        vertical-align: middle;\n",
       "    }\n",
       "\n",
       "    .dataframe tbody tr th {\n",
       "        vertical-align: top;\n",
       "    }\n",
       "\n",
       "    .dataframe thead th {\n",
       "        text-align: right;\n",
       "    }\n",
       "</style>\n",
       "<table border=\"1\" class=\"dataframe\">\n",
       "  <thead>\n",
       "    <tr style=\"text-align: right;\">\n",
       "      <th></th>\n",
       "      <th>cgpa</th>\n",
       "      <th>resume_score</th>\n",
       "      <th>placed</th>\n",
       "    </tr>\n",
       "  </thead>\n",
       "  <tbody>\n",
       "    <tr>\n",
       "      <th>0</th>\n",
       "      <td>8.14</td>\n",
       "      <td>6.52</td>\n",
       "      <td>1</td>\n",
       "    </tr>\n",
       "    <tr>\n",
       "      <th>1</th>\n",
       "      <td>6.17</td>\n",
       "      <td>5.17</td>\n",
       "      <td>0</td>\n",
       "    </tr>\n",
       "  </tbody>\n",
       "</table>\n",
       "</div>"
      ],
      "text/plain": [
       "   cgpa  resume_score  placed\n",
       "0  8.14          6.52       1\n",
       "1  6.17          5.17       0"
      ]
     },
     "execution_count": 6,
     "metadata": {},
     "output_type": "execute_result"
    }
   ],
   "source": [
    "df=pd.read_csv(\"placement.csv\")\n",
    "df.head(2)"
   ]
  },
  {
   "cell_type": "code",
   "execution_count": 10,
   "id": "9edf95f3-8660-40fd-9439-e9f513acb6ae",
   "metadata": {},
   "outputs": [
    {
     "data": {
      "text/plain": [
       "(100, 3)"
      ]
     },
     "execution_count": 10,
     "metadata": {},
     "output_type": "execute_result"
    }
   ],
   "source": [
    "df.shape"
   ]
  },
  {
   "cell_type": "code",
   "execution_count": 12,
   "id": "a1ac7751-d5a6-4315-a0ee-e76bae0e19f4",
   "metadata": {},
   "outputs": [],
   "source": [
    "#on the basis of cgpa and resume_score, a student is placed or not is defined so \"placed\" target column here.\n",
    "#so, cgpa and resume_score is independent data and placed is dependent data\n"
   ]
  },
  {
   "cell_type": "code",
   "execution_count": 22,
   "id": "6bbc3217-caa0-4763-8dc2-862e54e6bf8c",
   "metadata": {},
   "outputs": [
    {
     "name": "stdout",
     "output_type": "stream",
     "text": [
      "    cgpa  resume_score\n",
      "0   8.14          6.52\n",
      "1   6.17          5.17\n",
      "2   8.27          8.86\n",
      "3   6.88          7.27\n",
      "4   7.52          7.30\n",
      "..   ...           ...\n",
      "95  6.33          6.38\n",
      "96  8.23          7.76\n",
      "97  6.65          7.78\n",
      "98  8.14          5.63\n",
      "99  6.09          6.61\n",
      "\n",
      "[100 rows x 2 columns]\n",
      "(100, 2)\n"
     ]
    }
   ],
   "source": [
    "#drop the dependent data(x stores the independent data)\n",
    "x=df.drop(columns=[\"placed\"])\n",
    "print(x)\n",
    "print(x.shape)"
   ]
  },
  {
   "cell_type": "code",
   "execution_count": 26,
   "id": "2ee7cc0c-c715-474e-b56a-3e44028a1f19",
   "metadata": {},
   "outputs": [
    {
     "name": "stdout",
     "output_type": "stream",
     "text": [
      "0     1\n",
      "1     0\n",
      "2     1\n",
      "3     1\n",
      "4     1\n",
      "     ..\n",
      "95    0\n",
      "96    1\n",
      "97    0\n",
      "98    1\n",
      "99    0\n",
      "Name: placed, Length: 100, dtype: int64\n",
      "(100,)\n"
     ]
    }
   ],
   "source": [
    "#y stores the target column(dependent data)\n",
    "y=df[\"placed\"]\n",
    "print(y)\n",
    "print(y.shape)"
   ]
  },
  {
   "cell_type": "code",
   "execution_count": 46,
   "id": "ed59fe57-c5f0-4588-9dca-97f3ceb68bb2",
   "metadata": {},
   "outputs": [
    {
     "data": {
      "text/plain": [
       "array([7, 3, 6])"
      ]
     },
     "execution_count": 46,
     "metadata": {},
     "output_type": "execute_result"
    }
   ],
   "source": [
    "#JUST READ\n",
    "a=np.random.randint(1,10,3)  #it means give 3 random numbers b/w 1 and 10...it could be any number.\n",
    "a\n",
    "#this will generate different three number every time it runs, thats why seed function came into existence"
   ]
  },
  {
   "cell_type": "code",
   "execution_count": 48,
   "id": "a28354e3-5803-4c0d-be61-c521f6762d6b",
   "metadata": {},
   "outputs": [
    {
     "data": {
      "text/plain": [
       "array([4, 5, 1])"
      ]
     },
     "execution_count": 48,
     "metadata": {},
     "output_type": "execute_result"
    }
   ],
   "source": [
    "np.random.seed(6)  # pass any number inside seed function, its irrelevant\n",
    "b=np.random.randint(1,10,3)\n",
    "b\n",
    "\n",
    "#it has fixed the generated number, even we run it mora than one time the generated number does not chnage, this is what seed function does."
   ]
  },
  {
   "cell_type": "code",
   "execution_count": 50,
   "id": "86d53f6d-f144-4dab-b581-e1c0fbf039a5",
   "metadata": {},
   "outputs": [],
   "source": [
    "#seed function\n",
    "# | Term     | Meaning                               |\n",
    "# | -------- | ------------------------------------- |\n",
    "# | `seed()` | Fixes the randomness                  |\n",
    "# | Use case | Ensures same results on multiple runs |\n",
    "# | Value    | Any integer (e.g., `42`, `0`, `1`)    |\n"
   ]
  },
  {
   "cell_type": "code",
   "execution_count": 106,
   "id": "1c098baa-5067-44c3-8acb-54d274148edd",
   "metadata": {},
   "outputs": [],
   "source": [
    "from sklearn.model_selection import train_test_split"
   ]
  },
  {
   "cell_type": "code",
   "execution_count": 108,
   "id": "aa5617a3-b7ca-4799-aebb-e66e2917d8be",
   "metadata": {},
   "outputs": [],
   "source": [
    "#data is divided into 4 parts\n",
    "x_train,x_test,y_train,y_test=train_test_split(x,y,test_size=0.2,random_state=42)   #random_state is just like seed() function in python, it is creating the data at once and locking the value."
   ]
  },
  {
   "cell_type": "code",
   "execution_count": 110,
   "id": "8a09e412-4028-4bce-b2df-76ba17b26520",
   "metadata": {},
   "outputs": [
    {
     "name": "stdout",
     "output_type": "stream",
     "text": [
      "Total Data Shape:(100, 3),x data shape:(100, 2),y data shape:(100,)\n",
      "x_train shape: (80, 2)\n",
      "x_test shape: (20, 2)\n",
      "y_train shape: (80,)\n",
      "y_test shape: (20,)\n"
     ]
    }
   ],
   "source": [
    "print(f\"Total Data Shape:{df.shape},x data shape:{x.shape},y data shape:{y.shape}\")    #x+y=df(1+2=3)\n",
    "print(\"x_train shape:\",x_train.shape)\n",
    "print(\"x_test shape:\",x_test.shape)\n",
    "print(\"y_train shape:\",y_train.shape)\n",
    "print(\"y_test shape:\",y_test.shape)"
   ]
  },
  {
   "cell_type": "code",
   "execution_count": null,
   "id": "f7f5a9c3-dadd-4afe-a3d7-33e2c62a55a8",
   "metadata": {},
   "outputs": [],
   "source": [
    "##this is how exactly data dividation occured:\n",
    "#df(100,3)=x(80,2) + y(20,2)   (means x+y=df)\n",
    "#x(100,2)=x_train(80,2) + x_test(20,2)   (means x_train+x_test=x)\n",
    "#y(100,1)=y_train(80,)1 + y_test(20,1)   (means y_train+y_test=y)"
   ]
  },
  {
   "cell_type": "code",
   "execution_count": 112,
   "id": "30313785-2f34-468c-b0bf-4d7c5538c034",
   "metadata": {},
   "outputs": [
    {
     "data": {
      "text/html": [
       "<div>\n",
       "<style scoped>\n",
       "    .dataframe tbody tr th:only-of-type {\n",
       "        vertical-align: middle;\n",
       "    }\n",
       "\n",
       "    .dataframe tbody tr th {\n",
       "        vertical-align: top;\n",
       "    }\n",
       "\n",
       "    .dataframe thead th {\n",
       "        text-align: right;\n",
       "    }\n",
       "</style>\n",
       "<table border=\"1\" class=\"dataframe\">\n",
       "  <thead>\n",
       "    <tr style=\"text-align: right;\">\n",
       "      <th></th>\n",
       "      <th>age</th>\n",
       "      <th>gender</th>\n",
       "      <th>fever</th>\n",
       "      <th>cough</th>\n",
       "      <th>city</th>\n",
       "      <th>has_covid</th>\n",
       "    </tr>\n",
       "  </thead>\n",
       "  <tbody>\n",
       "    <tr>\n",
       "      <th>0</th>\n",
       "      <td>60</td>\n",
       "      <td>Male</td>\n",
       "      <td>103.0</td>\n",
       "      <td>Mild</td>\n",
       "      <td>Kolkata</td>\n",
       "      <td>No</td>\n",
       "    </tr>\n",
       "    <tr>\n",
       "      <th>1</th>\n",
       "      <td>27</td>\n",
       "      <td>Male</td>\n",
       "      <td>100.0</td>\n",
       "      <td>Mild</td>\n",
       "      <td>Delhi</td>\n",
       "      <td>Yes</td>\n",
       "    </tr>\n",
       "  </tbody>\n",
       "</table>\n",
       "</div>"
      ],
      "text/plain": [
       "   age gender  fever cough     city has_covid\n",
       "0   60   Male  103.0  Mild  Kolkata        No\n",
       "1   27   Male  100.0  Mild    Delhi       Yes"
      ]
     },
     "execution_count": 112,
     "metadata": {},
     "output_type": "execute_result"
    }
   ],
   "source": [
    "df1=pd.read_csv(\"covid_toy.csv\")\n",
    "df1.head(2)"
   ]
  },
  {
   "cell_type": "code",
   "execution_count": 114,
   "id": "d3fe0261-c119-4d27-8db5-c9b59d3df28a",
   "metadata": {},
   "outputs": [
    {
     "data": {
      "text/plain": [
       "age           0\n",
       "gender        0\n",
       "fever        10\n",
       "cough         0\n",
       "city          0\n",
       "has_covid     0\n",
       "dtype: int64"
      ]
     },
     "execution_count": 114,
     "metadata": {},
     "output_type": "execute_result"
    }
   ],
   "source": [
    "df1.isnull().sum()\n",
    "\n",
    "#we can see that fever column has 10 null values"
   ]
  },
  {
   "cell_type": "code",
   "execution_count": 116,
   "id": "d19f5318-4148-46e8-8a97-e77d17cc3bf1",
   "metadata": {},
   "outputs": [
    {
     "data": {
      "text/plain": [
       "100.84444444444445"
      ]
     },
     "execution_count": 116,
     "metadata": {},
     "output_type": "execute_result"
    }
   ],
   "source": [
    "#average of fever column\n",
    "df1[\"fever\"].mean()"
   ]
  },
  {
   "cell_type": "code",
   "execution_count": 118,
   "id": "ec1f7da6-6d82-46be-bebb-625e12b72954",
   "metadata": {},
   "outputs": [
    {
     "name": "stdout",
     "output_type": "stream",
     "text": [
      "age          0\n",
      "gender       0\n",
      "fever        0\n",
      "cough        0\n",
      "city         0\n",
      "has_covid    0\n",
      "dtype: int64\n"
     ]
    }
   ],
   "source": [
    "df1[\"fever\"]=df1[\"fever\"].fillna(df1[\"fever\"].mean())\n",
    "print(df1.isnull().sum())   #now our data has no missing values and fever column missing value is filled with mean value of it"
   ]
  },
  {
   "cell_type": "code",
   "execution_count": 120,
   "id": "0c679649-04da-4717-93c7-b6420c90191e",
   "metadata": {},
   "outputs": [
    {
     "data": {
      "text/plain": [
       "gender\n",
       "Female    59\n",
       "Male      41\n",
       "Name: count, dtype: int64"
      ]
     },
     "execution_count": 120,
     "metadata": {},
     "output_type": "execute_result"
    }
   ],
   "source": [
    "df1[\"gender\"].value_counts()  #in a categorical column how many sub-categories are there is checked by value_counts"
   ]
  },
  {
   "cell_type": "code",
   "execution_count": 122,
   "id": "00ea88d6-33f6-48e3-b649-5d30f56ba034",
   "metadata": {},
   "outputs": [],
   "source": [
    "df1[\"gender\"]=df1[\"gender\"].map({\"Female\":0,\"Male\":1})   #map is used when we want to do a change in every element of data\n",
    "df1[\"cough\"]=df1[\"cough\"].map({\"Mild\":0,\"Strong\":1})\n",
    "df1[\"city\"]=df1[\"city\"].map({\"Kolkata\":0,\"Bangalore\":1,\"Delhi\":2,\"Mumbai\":3})\n",
    "df1[\"has_covid\"]=df1[\"has_covid\"].map({\"No\":0,\"Yes\":1})"
   ]
  },
  {
   "cell_type": "code",
   "execution_count": 124,
   "id": "07c4361b-5c21-4340-a54a-b39bb0fea7cb",
   "metadata": {},
   "outputs": [
    {
     "data": {
      "text/html": [
       "<div>\n",
       "<style scoped>\n",
       "    .dataframe tbody tr th:only-of-type {\n",
       "        vertical-align: middle;\n",
       "    }\n",
       "\n",
       "    .dataframe tbody tr th {\n",
       "        vertical-align: top;\n",
       "    }\n",
       "\n",
       "    .dataframe thead th {\n",
       "        text-align: right;\n",
       "    }\n",
       "</style>\n",
       "<table border=\"1\" class=\"dataframe\">\n",
       "  <thead>\n",
       "    <tr style=\"text-align: right;\">\n",
       "      <th></th>\n",
       "      <th>age</th>\n",
       "      <th>gender</th>\n",
       "      <th>fever</th>\n",
       "      <th>cough</th>\n",
       "      <th>city</th>\n",
       "      <th>has_covid</th>\n",
       "    </tr>\n",
       "  </thead>\n",
       "  <tbody>\n",
       "    <tr>\n",
       "      <th>0</th>\n",
       "      <td>60</td>\n",
       "      <td>1</td>\n",
       "      <td>103.0</td>\n",
       "      <td>0</td>\n",
       "      <td>0</td>\n",
       "      <td>0</td>\n",
       "    </tr>\n",
       "    <tr>\n",
       "      <th>1</th>\n",
       "      <td>27</td>\n",
       "      <td>1</td>\n",
       "      <td>100.0</td>\n",
       "      <td>0</td>\n",
       "      <td>2</td>\n",
       "      <td>1</td>\n",
       "    </tr>\n",
       "    <tr>\n",
       "      <th>2</th>\n",
       "      <td>42</td>\n",
       "      <td>1</td>\n",
       "      <td>101.0</td>\n",
       "      <td>0</td>\n",
       "      <td>2</td>\n",
       "      <td>0</td>\n",
       "    </tr>\n",
       "    <tr>\n",
       "      <th>3</th>\n",
       "      <td>31</td>\n",
       "      <td>0</td>\n",
       "      <td>98.0</td>\n",
       "      <td>0</td>\n",
       "      <td>0</td>\n",
       "      <td>0</td>\n",
       "    </tr>\n",
       "    <tr>\n",
       "      <th>4</th>\n",
       "      <td>65</td>\n",
       "      <td>0</td>\n",
       "      <td>101.0</td>\n",
       "      <td>0</td>\n",
       "      <td>3</td>\n",
       "      <td>0</td>\n",
       "    </tr>\n",
       "    <tr>\n",
       "      <th>...</th>\n",
       "      <td>...</td>\n",
       "      <td>...</td>\n",
       "      <td>...</td>\n",
       "      <td>...</td>\n",
       "      <td>...</td>\n",
       "      <td>...</td>\n",
       "    </tr>\n",
       "    <tr>\n",
       "      <th>95</th>\n",
       "      <td>12</td>\n",
       "      <td>0</td>\n",
       "      <td>104.0</td>\n",
       "      <td>0</td>\n",
       "      <td>1</td>\n",
       "      <td>0</td>\n",
       "    </tr>\n",
       "    <tr>\n",
       "      <th>96</th>\n",
       "      <td>51</td>\n",
       "      <td>0</td>\n",
       "      <td>101.0</td>\n",
       "      <td>1</td>\n",
       "      <td>0</td>\n",
       "      <td>1</td>\n",
       "    </tr>\n",
       "    <tr>\n",
       "      <th>97</th>\n",
       "      <td>20</td>\n",
       "      <td>0</td>\n",
       "      <td>101.0</td>\n",
       "      <td>0</td>\n",
       "      <td>1</td>\n",
       "      <td>0</td>\n",
       "    </tr>\n",
       "    <tr>\n",
       "      <th>98</th>\n",
       "      <td>5</td>\n",
       "      <td>0</td>\n",
       "      <td>98.0</td>\n",
       "      <td>1</td>\n",
       "      <td>3</td>\n",
       "      <td>0</td>\n",
       "    </tr>\n",
       "    <tr>\n",
       "      <th>99</th>\n",
       "      <td>10</td>\n",
       "      <td>0</td>\n",
       "      <td>98.0</td>\n",
       "      <td>1</td>\n",
       "      <td>0</td>\n",
       "      <td>1</td>\n",
       "    </tr>\n",
       "  </tbody>\n",
       "</table>\n",
       "<p>100 rows × 6 columns</p>\n",
       "</div>"
      ],
      "text/plain": [
       "    age  gender  fever  cough  city  has_covid\n",
       "0    60       1  103.0      0     0          0\n",
       "1    27       1  100.0      0     2          1\n",
       "2    42       1  101.0      0     2          0\n",
       "3    31       0   98.0      0     0          0\n",
       "4    65       0  101.0      0     3          0\n",
       "..  ...     ...    ...    ...   ...        ...\n",
       "95   12       0  104.0      0     1          0\n",
       "96   51       0  101.0      1     0          1\n",
       "97   20       0  101.0      0     1          0\n",
       "98    5       0   98.0      1     3          0\n",
       "99   10       0   98.0      1     0          1\n",
       "\n",
       "[100 rows x 6 columns]"
      ]
     },
     "execution_count": 124,
     "metadata": {},
     "output_type": "execute_result"
    }
   ],
   "source": [
    "df1    #data cleaning and pre_processing has been done using pandas only"
   ]
  },
  {
   "cell_type": "code",
   "execution_count": 150,
   "id": "aa82b198-6e2f-4e5f-ae0d-9bb3d3acc968",
   "metadata": {},
   "outputs": [
    {
     "name": "stdout",
     "output_type": "stream",
     "text": [
      "    age  gender  fever  cough  city\n",
      "0    60       1  103.0      0     0\n",
      "1    27       1  100.0      0     2\n",
      "2    42       1  101.0      0     2\n",
      "3    31       0   98.0      0     0\n",
      "4    65       0  101.0      0     3\n",
      "..  ...     ...    ...    ...   ...\n",
      "95   12       0  104.0      0     1\n",
      "96   51       0  101.0      1     0\n",
      "97   20       0  101.0      0     1\n",
      "98    5       0   98.0      1     3\n",
      "99   10       0   98.0      1     0\n",
      "\n",
      "[100 rows x 5 columns]\n",
      "0     0\n",
      "1     1\n",
      "2     0\n",
      "3     0\n",
      "4     0\n",
      "     ..\n",
      "95    0\n",
      "96    1\n",
      "97    0\n",
      "98    0\n",
      "99    1\n",
      "Name: has_covid, Length: 100, dtype: int64\n"
     ]
    }
   ],
   "source": [
    "#train test split:\n",
    "from sklearn.model_selection import train_test_split\n",
    "\n",
    "# Define features and target\n",
    "X=df1.drop(\"has_covid\",axis=1)\n",
    "y=df1[\"has_covid\"]\n",
    "print(X)\n",
    "print(y)\n",
    "\n",
    "\n",
    "#split the data:\n",
    "X_train,X_test,y_train,y_test=train_test_split(X,y,test_size=0.2,random_state=42)\n"
   ]
  },
  {
   "cell_type": "code",
   "execution_count": 156,
   "id": "032a79de-f599-45a4-81c1-c0c7e5a11615",
   "metadata": {},
   "outputs": [
    {
     "name": "stdout",
     "output_type": "stream",
     "text": [
      "full data shape: (100, 6)\n",
      "X shape:(100, 5) and y shape:(100,)\n",
      "X_train shape: (80, 5)\n",
      "X_test shape: (20, 5)\n",
      "y_train shape: (80,)\n",
      "y_test shape: (20,)\n"
     ]
    }
   ],
   "source": [
    "# Print data shapes:\n",
    "print(\"full data shape:\",df1.shape)\n",
    "print(f\"X shape:{X.shape} and y shape:{y.shape}\")\n",
    "print(\"X_train shape:\",X_train.shape)\n",
    "print(\"X_test shape:\",X_test.shape)\n",
    "print(\"y_train shape:\",y_train.shape)\n",
    "print(\"y_test shape:\",y_test.shape)"
   ]
  },
  {
   "cell_type": "code",
   "execution_count": 158,
   "id": "7fbcac7c-6b56-475f-9d5a-1617e060a24d",
   "metadata": {},
   "outputs": [],
   "source": [
    "# Why is it called train_test_split?\n",
    "# Because it splits your full dataset into:\n",
    "# Training data → This part will be used to train the model\n",
    "# Testing data → This part will be used to test (evaluate) the model after it's trained\n"
   ]
  },
  {
   "cell_type": "code",
   "execution_count": 174,
   "id": "4c3df775-334b-448b-a7c9-022b92ba5419",
   "metadata": {},
   "outputs": [],
   "source": [
    "#Normal Distribution:\n",
    "#A normal distribution, also known as a Gaussian distribution, is a probability distribution that is symmetrical and bell-shaped.\n",
    "\n",
    "# Symmetry:\n",
    "# The distribution is symmetrical around its mean, meaning that the left and right sides are mirror images of each other. \n",
    "# Bell-shaped:\n",
    "# The curve resembles a bell, with the highest point at the mean.\n",
    "\n",
    "\n",
    "# Mean, Median, and Mode are Equal:\n",
    "# In a normal distribution, the mean, median, and mode all have the same value. "
   ]
  },
  {
   "cell_type": "code",
   "execution_count": 176,
   "id": "d13c29fa-4475-4a30-abdf-fb83c07822a6",
   "metadata": {},
   "outputs": [
    {
     "data": {
      "text/html": [
       "<div>\n",
       "<style scoped>\n",
       "    .dataframe tbody tr th:only-of-type {\n",
       "        vertical-align: middle;\n",
       "    }\n",
       "\n",
       "    .dataframe tbody tr th {\n",
       "        vertical-align: top;\n",
       "    }\n",
       "\n",
       "    .dataframe thead th {\n",
       "        text-align: right;\n",
       "    }\n",
       "</style>\n",
       "<table border=\"1\" class=\"dataframe\">\n",
       "  <thead>\n",
       "    <tr style=\"text-align: right;\">\n",
       "      <th></th>\n",
       "      <th>age</th>\n",
       "      <th>gender</th>\n",
       "      <th>fever</th>\n",
       "      <th>cough</th>\n",
       "      <th>city</th>\n",
       "    </tr>\n",
       "  </thead>\n",
       "  <tbody>\n",
       "    <tr>\n",
       "      <th>count</th>\n",
       "      <td>80.00</td>\n",
       "      <td>80.00</td>\n",
       "      <td>80.00</td>\n",
       "      <td>80.00</td>\n",
       "      <td>80.00</td>\n",
       "    </tr>\n",
       "    <tr>\n",
       "      <th>mean</th>\n",
       "      <td>42.91</td>\n",
       "      <td>0.41</td>\n",
       "      <td>100.98</td>\n",
       "      <td>0.40</td>\n",
       "      <td>1.26</td>\n",
       "    </tr>\n",
       "    <tr>\n",
       "      <th>std</th>\n",
       "      <td>24.47</td>\n",
       "      <td>0.50</td>\n",
       "      <td>1.93</td>\n",
       "      <td>0.49</td>\n",
       "      <td>1.06</td>\n",
       "    </tr>\n",
       "    <tr>\n",
       "      <th>min</th>\n",
       "      <td>5.00</td>\n",
       "      <td>0.00</td>\n",
       "      <td>98.00</td>\n",
       "      <td>0.00</td>\n",
       "      <td>0.00</td>\n",
       "    </tr>\n",
       "    <tr>\n",
       "      <th>25%</th>\n",
       "      <td>20.00</td>\n",
       "      <td>0.00</td>\n",
       "      <td>100.00</td>\n",
       "      <td>0.00</td>\n",
       "      <td>0.00</td>\n",
       "    </tr>\n",
       "    <tr>\n",
       "      <th>50%</th>\n",
       "      <td>42.00</td>\n",
       "      <td>0.00</td>\n",
       "      <td>101.00</td>\n",
       "      <td>0.00</td>\n",
       "      <td>1.00</td>\n",
       "    </tr>\n",
       "    <tr>\n",
       "      <th>75%</th>\n",
       "      <td>65.00</td>\n",
       "      <td>1.00</td>\n",
       "      <td>102.00</td>\n",
       "      <td>1.00</td>\n",
       "      <td>2.00</td>\n",
       "    </tr>\n",
       "    <tr>\n",
       "      <th>max</th>\n",
       "      <td>84.00</td>\n",
       "      <td>1.00</td>\n",
       "      <td>104.00</td>\n",
       "      <td>1.00</td>\n",
       "      <td>3.00</td>\n",
       "    </tr>\n",
       "  </tbody>\n",
       "</table>\n",
       "</div>"
      ],
      "text/plain": [
       "         age  gender   fever  cough   city\n",
       "count  80.00   80.00   80.00  80.00  80.00\n",
       "mean   42.91    0.41  100.98   0.40   1.26\n",
       "std    24.47    0.50    1.93   0.49   1.06\n",
       "min     5.00    0.00   98.00   0.00   0.00\n",
       "25%    20.00    0.00  100.00   0.00   0.00\n",
       "50%    42.00    0.00  101.00   0.00   1.00\n",
       "75%    65.00    1.00  102.00   1.00   2.00\n",
       "max    84.00    1.00  104.00   1.00   3.00"
      ]
     },
     "execution_count": 176,
     "metadata": {},
     "output_type": "execute_result"
    }
   ],
   "source": [
    "np.round(X_train.describe(),2)  #we can see that average is different for each column and also next value gap i.e. is not fixed\n",
    "\n",
    "#it means that our data is not normally distributed"
   ]
  },
  {
   "cell_type": "code",
   "execution_count": 180,
   "id": "06747422-80d3-44a6-bff8-2e41a2b5afc3",
   "metadata": {},
   "outputs": [],
   "source": [
    "#to perform normal distribution in ml:\n",
    "from sklearn.preprocessing import StandardScaler\n",
    "\n",
    "# from sklearn.preprocessing import StandardScaler — What does it mean?\n",
    "# This line imports the StandardScaler class from sklearn.preprocessing, which is part of the scikit-learn machine learning library in Python.\n",
    "# What is StandardScaler?\n",
    "# StandardScaler is used to standardize (scale) features so that:\n",
    "# The mean of each feature becomes 0\n",
    "# The standard deviation becomes 1\n",
    "# 📌 This is called Z-score normalization."
   ]
  },
  {
   "cell_type": "code",
   "execution_count": 182,
   "id": "09ad7a33-829c-4d91-b284-0b58edd4765b",
   "metadata": {},
   "outputs": [],
   "source": [
    "scaler=StandardScaler()    # an object of standard scaler is created"
   ]
  },
  {
   "cell_type": "code",
   "execution_count": 186,
   "id": "e47521bd-5991-46a0-adb7-bde9d14146d8",
   "metadata": {},
   "outputs": [],
   "source": [
    "X_train_sc=scaler.fit_transform(X_train)\n",
    "\n",
    "# | Function          | Meaning                                                              |\n",
    "# | ----------------- | -------------------------------------------------------------------- |\n",
    "# | `fit()`           | **Learns** the parameters (mean & standard deviation) from the data  |\n",
    "# | `transform()`     | **Applies** those learned parameters to standardize (scale) the data |\n",
    "# | `fit_transform()` | Combines both steps: learn + apply in one line                       |\n",
    "\n",
    "# scaler learns the parameters from X_train.\n",
    "# A scaler is a tool (a class or object) in machine learning that adjusts the values of your data — so they are easier for a model to understand.\n"
   ]
  },
  {
   "cell_type": "code",
   "execution_count": 190,
   "id": "f6e7cc07-02ce-4f96-8064-21d14a67effd",
   "metadata": {},
   "outputs": [
    {
     "data": {
      "text/plain": [
       "array([[ 1.56614097, -0.83793058,  0.00912571, -0.81649658,  1.64281485],\n",
       "       [-1.55894504, -0.83793058, -0.51234344, -0.81649658, -1.1937    ],\n",
       "       [-0.98327131, -0.83793058, -0.51234344, -0.81649658, -1.1937    ],\n",
       "       [-0.65431488,  1.19341628, -0.51234344, -0.81649658,  0.6973099 ],\n",
       "       [ 1.23718454, -0.83793058,  1.05206401, -0.81649658,  0.6973099 ],\n",
       "       [ 1.11382589,  1.19341628,  1.05206401,  1.22474487, -1.1937    ],\n",
       "       [ 0.25031528, -0.83793058,  0.53059486, -0.81649658,  0.6973099 ],\n",
       "       [ 0.33255438, -0.83793058,  0.00912571,  1.22474487, -1.1937    ],\n",
       "       [ 0.86710857, -0.83793058,  0.00912571, -0.81649658,  0.6973099 ],\n",
       "       [ 1.64838007, -0.83793058,  0.00912571, -0.81649658, -1.1937    ],\n",
       "       [ 0.90822812, -0.83793058, -1.55528174, -0.81649658,  1.64281485],\n",
       "       [-1.02439086, -0.83793058,  1.57353316, -0.81649658, -0.24819505],\n",
       "       [-1.10662996, -0.83793058,  1.05206401, -0.81649658, -0.24819505],\n",
       "       [-1.10662996,  1.19341628,  1.57353316, -0.81649658, -1.1937    ],\n",
       "       [-0.65431488,  1.19341628, -0.51234344, -0.81649658, -1.1937    ],\n",
       "       [ 1.68949962, -0.83793058, -0.07199171, -0.81649658, -0.24819505],\n",
       "       [ 0.33255438,  1.19341628,  1.57353316, -0.81649658, -1.1937    ],\n",
       "       [ 1.07270633, -0.83793058,  0.53059486, -0.81649658, -0.24819505],\n",
       "       [ 1.60726052, -0.83793058,  0.53059486,  1.22474487, -0.24819505],\n",
       "       [ 1.07270633, -0.83793058,  1.05206401, -0.81649658, -1.1937    ],\n",
       "       [ 0.04471751,  1.19341628,  1.57353316, -0.81649658,  1.64281485],\n",
       "       [ 1.2783041 ,  1.19341628,  0.53059486, -0.81649658,  1.64281485],\n",
       "       [-0.94215175, -0.83793058, -0.07199171,  1.22474487,  1.64281485],\n",
       "       [-1.27110817, -0.83793058,  1.57353316, -0.81649658, -0.24819505],\n",
       "       [-0.40759757, -0.83793058,  0.53059486,  1.22474487,  0.6973099 ],\n",
       "       [-0.03752159, -0.83793058, -0.07199171,  1.22474487, -0.24819505],\n",
       "       [ 0.90822812,  1.19341628, -1.03381259, -0.81649658,  0.6973099 ],\n",
       "       [-0.81879309,  1.19341628, -0.07199171, -0.81649658,  1.64281485],\n",
       "       [ 0.53815215, -0.83793058,  1.57353316,  1.22474487, -0.24819505],\n",
       "       [ 0.86710857,  1.19341628,  0.53059486, -0.81649658, -0.24819505],\n",
       "       [-1.22998862, -0.83793058, -0.51234344,  1.22474487, -1.1937    ],\n",
       "       [-0.48983667, -0.83793058, -1.55528174, -0.81649658, -1.1937    ],\n",
       "       [-0.1197607 , -0.83793058, -1.55528174,  1.22474487,  0.6973099 ],\n",
       "       [ 0.25031528, -0.83793058,  0.00912571, -0.81649658,  0.6973099 ],\n",
       "       [-0.98327131, -0.83793058, -0.51234344,  1.22474487, -0.24819505],\n",
       "       [-1.31222773,  1.19341628, -0.51234344, -0.81649658, -0.24819505],\n",
       "       [-1.18886907,  1.19341628,  0.00912571,  1.22474487, -0.24819505],\n",
       "       [-0.03752159,  1.19341628,  1.57353316, -0.81649658,  1.64281485],\n",
       "       [-0.2019998 , -0.83793058,  0.00912571, -0.81649658, -0.24819505],\n",
       "       [ 0.12695662,  1.19341628,  1.05206401,  1.22474487, -0.24819505],\n",
       "       [ 1.15494544,  1.19341628, -0.07199171,  1.22474487, -1.1937    ],\n",
       "       [-1.35334728, -0.83793058, -1.55528174,  1.22474487, -1.1937    ],\n",
       "       [ 0.70263036, -0.83793058, -1.03381259, -0.81649658,  1.64281485],\n",
       "       [-0.85991265, -0.83793058, -1.03381259, -0.81649658, -0.24819505],\n",
       "       [-0.98327131,  1.19341628,  0.00912571, -0.81649658,  0.6973099 ],\n",
       "       [ 0.90822812,  1.19341628, -1.03381259, -0.81649658, -0.24819505],\n",
       "       [-0.98327131, -0.83793058,  0.00912571, -0.81649658,  1.64281485],\n",
       "       [ 0.45591304, -0.83793058,  1.57353316,  1.22474487, -1.1937    ],\n",
       "       [ 1.56614097, -0.83793058, -1.55528174,  1.22474487,  1.64281485],\n",
       "       [-0.94215175, -0.83793058,  0.00912571, -0.81649658, -0.24819505],\n",
       "       [ 0.20919572, -0.83793058,  1.05206401, -0.81649658, -1.1937    ],\n",
       "       [ 1.60726052,  1.19341628, -0.07199171, -0.81649658, -1.1937    ],\n",
       "       [-0.81879309,  1.19341628, -1.55528174,  1.22474487,  1.64281485],\n",
       "       [ 0.94934767,  1.19341628, -1.03381259,  1.22474487, -0.24819505],\n",
       "       [-1.55894504, -0.83793058, -1.55528174,  1.22474487,  1.64281485],\n",
       "       [ 0.25031528, -0.83793058, -1.03381259,  1.22474487, -0.24819505],\n",
       "       [-1.55894504,  1.19341628,  0.53059486, -0.81649658, -1.1937    ],\n",
       "       [-0.36647801, -0.83793058,  0.00912571,  1.22474487,  0.6973099 ],\n",
       "       [ 1.48390186,  1.19341628, -0.07199171,  1.22474487, -1.1937    ],\n",
       "       [-1.51782549, -0.83793058,  1.57353316, -0.81649658, -1.1937    ],\n",
       "       [-1.35334728,  1.19341628, -0.51234344, -0.81649658, -0.24819505],\n",
       "       [ 1.07270633, -0.83793058, -1.55528174,  1.22474487,  1.64281485],\n",
       "       [ 0.49703259,  1.19341628, -0.51234344, -0.81649658, -1.1937    ],\n",
       "       [-0.36647801, -0.83793058, -0.07199171,  1.22474487,  1.64281485],\n",
       "       [-0.65431488,  1.19341628, -0.51234344, -0.81649658,  0.6973099 ],\n",
       "       [ 0.16807617, -0.83793058, -0.51234344,  1.22474487, -0.24819505],\n",
       "       [ 1.23718454,  1.19341628, -1.55528174, -0.81649658, -0.24819505],\n",
       "       [-0.03752159,  1.19341628,  0.00912571, -0.81649658,  0.6973099 ],\n",
       "       [ 1.52502141, -0.83793058, -1.55528174, -0.81649658,  0.6973099 ],\n",
       "       [ 0.16807617,  1.19341628,  0.00912571,  1.22474487, -0.24819505],\n",
       "       [-0.2019998 ,  1.19341628, -0.07199171, -0.81649658,  0.6973099 ],\n",
       "       [-0.36647801, -0.83793058,  1.57353316,  1.22474487,  0.6973099 ],\n",
       "       [-0.73655399,  1.19341628,  1.57353316, -0.81649658, -0.24819505],\n",
       "       [-0.77767354,  1.19341628, -1.55528174, -0.81649658, -1.1937    ],\n",
       "       [-1.27110817,  1.19341628, -1.55528174,  1.22474487, -0.24819505],\n",
       "       [-0.77767354, -0.83793058,  0.53059486,  1.22474487, -0.24819505],\n",
       "       [ 1.31942365, -0.83793058,  1.57353316,  1.22474487,  0.6973099 ],\n",
       "       [ 0.33255438,  1.19341628,  1.57353316, -0.81649658, -0.24819505],\n",
       "       [ 1.60726052, -0.83793058,  0.53059486,  1.22474487, -1.1937    ],\n",
       "       [-1.31222773, -0.83793058, -0.51234344,  1.22474487, -1.1937    ]])"
      ]
     },
     "execution_count": 190,
     "metadata": {},
     "output_type": "execute_result"
    }
   ],
   "source": [
    "X_train_sc   #converted into array form"
   ]
  },
  {
   "cell_type": "code",
   "execution_count": 196,
   "id": "235aa07b-1013-412e-8d6a-37d76a55524a",
   "metadata": {},
   "outputs": [],
   "source": [
    "X_train_new=pd.DataFrame(X_train_sc,columns=X.columns)"
   ]
  },
  {
   "cell_type": "code",
   "execution_count": 198,
   "id": "3d7f8d7a-ddf2-4142-8871-582458d8c0c4",
   "metadata": {},
   "outputs": [
    {
     "data": {
      "text/html": [
       "<div>\n",
       "<style scoped>\n",
       "    .dataframe tbody tr th:only-of-type {\n",
       "        vertical-align: middle;\n",
       "    }\n",
       "\n",
       "    .dataframe tbody tr th {\n",
       "        vertical-align: top;\n",
       "    }\n",
       "\n",
       "    .dataframe thead th {\n",
       "        text-align: right;\n",
       "    }\n",
       "</style>\n",
       "<table border=\"1\" class=\"dataframe\">\n",
       "  <thead>\n",
       "    <tr style=\"text-align: right;\">\n",
       "      <th></th>\n",
       "      <th>age</th>\n",
       "      <th>gender</th>\n",
       "      <th>fever</th>\n",
       "      <th>cough</th>\n",
       "      <th>city</th>\n",
       "    </tr>\n",
       "  </thead>\n",
       "  <tbody>\n",
       "    <tr>\n",
       "      <th>count</th>\n",
       "      <td>80.00</td>\n",
       "      <td>80.00</td>\n",
       "      <td>80.00</td>\n",
       "      <td>80.00</td>\n",
       "      <td>80.00</td>\n",
       "    </tr>\n",
       "    <tr>\n",
       "      <th>mean</th>\n",
       "      <td>-0.00</td>\n",
       "      <td>0.00</td>\n",
       "      <td>-0.00</td>\n",
       "      <td>-0.00</td>\n",
       "      <td>0.00</td>\n",
       "    </tr>\n",
       "    <tr>\n",
       "      <th>std</th>\n",
       "      <td>1.01</td>\n",
       "      <td>1.01</td>\n",
       "      <td>1.01</td>\n",
       "      <td>1.01</td>\n",
       "      <td>1.01</td>\n",
       "    </tr>\n",
       "    <tr>\n",
       "      <th>min</th>\n",
       "      <td>-1.56</td>\n",
       "      <td>-0.84</td>\n",
       "      <td>-1.56</td>\n",
       "      <td>-0.82</td>\n",
       "      <td>-1.19</td>\n",
       "    </tr>\n",
       "    <tr>\n",
       "      <th>25%</th>\n",
       "      <td>-0.94</td>\n",
       "      <td>-0.84</td>\n",
       "      <td>-0.51</td>\n",
       "      <td>-0.82</td>\n",
       "      <td>-1.19</td>\n",
       "    </tr>\n",
       "    <tr>\n",
       "      <th>50%</th>\n",
       "      <td>-0.04</td>\n",
       "      <td>-0.84</td>\n",
       "      <td>0.01</td>\n",
       "      <td>-0.82</td>\n",
       "      <td>-0.25</td>\n",
       "    </tr>\n",
       "    <tr>\n",
       "      <th>75%</th>\n",
       "      <td>0.91</td>\n",
       "      <td>1.19</td>\n",
       "      <td>0.53</td>\n",
       "      <td>1.22</td>\n",
       "      <td>0.70</td>\n",
       "    </tr>\n",
       "    <tr>\n",
       "      <th>max</th>\n",
       "      <td>1.69</td>\n",
       "      <td>1.19</td>\n",
       "      <td>1.57</td>\n",
       "      <td>1.22</td>\n",
       "      <td>1.64</td>\n",
       "    </tr>\n",
       "  </tbody>\n",
       "</table>\n",
       "</div>"
      ],
      "text/plain": [
       "         age  gender  fever  cough   city\n",
       "count  80.00   80.00  80.00  80.00  80.00\n",
       "mean   -0.00    0.00  -0.00  -0.00   0.00\n",
       "std     1.01    1.01   1.01   1.01   1.01\n",
       "min    -1.56   -0.84  -1.56  -0.82  -1.19\n",
       "25%    -0.94   -0.84  -0.51  -0.82  -1.19\n",
       "50%    -0.04   -0.84   0.01  -0.82  -0.25\n",
       "75%     0.91    1.19   0.53   1.22   0.70\n",
       "max     1.69    1.19   1.57   1.22   1.64"
      ]
     },
     "execution_count": 198,
     "metadata": {},
     "output_type": "execute_result"
    }
   ],
   "source": [
    "np.round(X_train_new.describe(),2)\n",
    "\n",
    "#we can see mean is same for all data and std(gap) is same.. it means that our data is now normally distributed where central tendency is 0 and next value gap is 1.01."
   ]
  },
  {
   "cell_type": "code",
   "execution_count": null,
   "id": "08c60cf6-9ea3-4ecb-8869-e4f8d907daee",
   "metadata": {},
   "outputs": [],
   "source": []
  }
 ],
 "metadata": {
  "kernelspec": {
   "display_name": "Python 3 (ipykernel)",
   "language": "python",
   "name": "python3"
  },
  "language_info": {
   "codemirror_mode": {
    "name": "ipython",
    "version": 3
   },
   "file_extension": ".py",
   "mimetype": "text/x-python",
   "name": "python",
   "nbconvert_exporter": "python",
   "pygments_lexer": "ipython3",
   "version": "3.12.4"
  }
 },
 "nbformat": 4,
 "nbformat_minor": 5
}
