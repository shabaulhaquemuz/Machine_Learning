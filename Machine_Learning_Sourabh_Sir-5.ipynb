{
 "cells": [
  {
   "cell_type": "code",
   "execution_count": 152,
   "id": "da8b80d4-6484-458f-bb9c-a352487f88e6",
   "metadata": {},
   "outputs": [],
   "source": [
    "import numpy as np\n",
    "import pandas as pd"
   ]
  },
  {
   "cell_type": "code",
   "execution_count": 156,
   "id": "76bdf64e-7ade-4373-80db-ae4370427e9e",
   "metadata": {},
   "outputs": [
    {
     "data": {
      "text/html": [
       "<div>\n",
       "<style scoped>\n",
       "    .dataframe tbody tr th:only-of-type {\n",
       "        vertical-align: middle;\n",
       "    }\n",
       "\n",
       "    .dataframe tbody tr th {\n",
       "        vertical-align: top;\n",
       "    }\n",
       "\n",
       "    .dataframe thead th {\n",
       "        text-align: right;\n",
       "    }\n",
       "</style>\n",
       "<table border=\"1\" class=\"dataframe\">\n",
       "  <thead>\n",
       "    <tr style=\"text-align: right;\">\n",
       "      <th></th>\n",
       "      <th>age</th>\n",
       "      <th>sex</th>\n",
       "      <th>bmi</th>\n",
       "      <th>children</th>\n",
       "      <th>smoker</th>\n",
       "      <th>region</th>\n",
       "      <th>charges</th>\n",
       "    </tr>\n",
       "  </thead>\n",
       "  <tbody>\n",
       "    <tr>\n",
       "      <th>0</th>\n",
       "      <td>19</td>\n",
       "      <td>female</td>\n",
       "      <td>27.900</td>\n",
       "      <td>0</td>\n",
       "      <td>yes</td>\n",
       "      <td>southwest</td>\n",
       "      <td>16884.92400</td>\n",
       "    </tr>\n",
       "    <tr>\n",
       "      <th>1</th>\n",
       "      <td>18</td>\n",
       "      <td>male</td>\n",
       "      <td>33.770</td>\n",
       "      <td>1</td>\n",
       "      <td>no</td>\n",
       "      <td>southeast</td>\n",
       "      <td>1725.55230</td>\n",
       "    </tr>\n",
       "    <tr>\n",
       "      <th>2</th>\n",
       "      <td>28</td>\n",
       "      <td>male</td>\n",
       "      <td>33.000</td>\n",
       "      <td>3</td>\n",
       "      <td>no</td>\n",
       "      <td>southeast</td>\n",
       "      <td>4449.46200</td>\n",
       "    </tr>\n",
       "    <tr>\n",
       "      <th>3</th>\n",
       "      <td>33</td>\n",
       "      <td>male</td>\n",
       "      <td>22.705</td>\n",
       "      <td>0</td>\n",
       "      <td>no</td>\n",
       "      <td>northwest</td>\n",
       "      <td>21984.47061</td>\n",
       "    </tr>\n",
       "    <tr>\n",
       "      <th>4</th>\n",
       "      <td>32</td>\n",
       "      <td>male</td>\n",
       "      <td>28.880</td>\n",
       "      <td>0</td>\n",
       "      <td>no</td>\n",
       "      <td>northwest</td>\n",
       "      <td>3866.85520</td>\n",
       "    </tr>\n",
       "  </tbody>\n",
       "</table>\n",
       "</div>"
      ],
      "text/plain": [
       "   age     sex     bmi  children smoker     region      charges\n",
       "0   19  female  27.900         0    yes  southwest  16884.92400\n",
       "1   18    male  33.770         1     no  southeast   1725.55230\n",
       "2   28    male  33.000         3     no  southeast   4449.46200\n",
       "3   33    male  22.705         0     no  northwest  21984.47061\n",
       "4   32    male  28.880         0     no  northwest   3866.85520"
      ]
     },
     "execution_count": 156,
     "metadata": {},
     "output_type": "execute_result"
    }
   ],
   "source": [
    "df=pd.read_csv(\"insurance.csv\")\n",
    "df.head()"
   ]
  },
  {
   "cell_type": "code",
   "execution_count": 158,
   "id": "5b9ecab3-f8bf-4a9f-bd0c-137e0b07c84e",
   "metadata": {},
   "outputs": [],
   "source": [
    "from sklearn.impute import SimpleImputer\n",
    "from sklearn.preprocessing import OrdinalEncoder\n",
    "from sklearn.preprocessing import OneHotEncoder"
   ]
  },
  {
   "cell_type": "code",
   "execution_count": 160,
   "id": "34ba72db-d67f-4ab0-aac2-9fc7d8f37d90",
   "metadata": {},
   "outputs": [],
   "source": [
    "x=df.drop(columns=[\"charges\"])\n",
    "y=df[\"charges\"]"
   ]
  },
  {
   "cell_type": "code",
   "execution_count": 162,
   "id": "df76f1c3-e9af-4bcd-9382-0f200f704fbf",
   "metadata": {},
   "outputs": [],
   "source": [
    "from sklearn.model_selection import train_test_split"
   ]
  },
  {
   "cell_type": "code",
   "execution_count": 164,
   "id": "a1dab8fe-386d-436c-bcde-c028372888a1",
   "metadata": {},
   "outputs": [],
   "source": [
    "x_train,x_test,y_train,y_test=train_test_split(x,y,test_size=0.2,random_state=42)"
   ]
  },
  {
   "cell_type": "code",
   "execution_count": 166,
   "id": "eff8c4f3-e3c1-4523-bed4-dd71f60aad94",
   "metadata": {},
   "outputs": [
    {
     "data": {
      "text/html": [
       "<div>\n",
       "<style scoped>\n",
       "    .dataframe tbody tr th:only-of-type {\n",
       "        vertical-align: middle;\n",
       "    }\n",
       "\n",
       "    .dataframe tbody tr th {\n",
       "        vertical-align: top;\n",
       "    }\n",
       "\n",
       "    .dataframe thead th {\n",
       "        text-align: right;\n",
       "    }\n",
       "</style>\n",
       "<table border=\"1\" class=\"dataframe\">\n",
       "  <thead>\n",
       "    <tr style=\"text-align: right;\">\n",
       "      <th></th>\n",
       "      <th>age</th>\n",
       "      <th>sex</th>\n",
       "      <th>bmi</th>\n",
       "      <th>children</th>\n",
       "      <th>smoker</th>\n",
       "      <th>region</th>\n",
       "    </tr>\n",
       "  </thead>\n",
       "  <tbody>\n",
       "    <tr>\n",
       "      <th>560</th>\n",
       "      <td>46</td>\n",
       "      <td>female</td>\n",
       "      <td>19.95</td>\n",
       "      <td>2</td>\n",
       "      <td>no</td>\n",
       "      <td>northwest</td>\n",
       "    </tr>\n",
       "    <tr>\n",
       "      <th>1285</th>\n",
       "      <td>47</td>\n",
       "      <td>female</td>\n",
       "      <td>24.32</td>\n",
       "      <td>0</td>\n",
       "      <td>no</td>\n",
       "      <td>northeast</td>\n",
       "    </tr>\n",
       "  </tbody>\n",
       "</table>\n",
       "</div>"
      ],
      "text/plain": [
       "      age     sex    bmi  children smoker     region\n",
       "560    46  female  19.95         2     no  northwest\n",
       "1285   47  female  24.32         0     no  northeast"
      ]
     },
     "execution_count": 166,
     "metadata": {},
     "output_type": "execute_result"
    }
   ],
   "source": [
    "x_train.head(2)"
   ]
  },
  {
   "cell_type": "code",
   "execution_count": 168,
   "id": "751990ea-a0fc-4d97-8645-b4d163a2a61c",
   "metadata": {},
   "outputs": [],
   "source": [
    "#Manual process:"
   ]
  },
  {
   "cell_type": "code",
   "execution_count": 170,
   "id": "6b7abab5-49f0-451f-bc48-9c15a3024e9a",
   "metadata": {},
   "outputs": [
    {
     "data": {
      "text/plain": [
       "(1070, 1)"
      ]
     },
     "execution_count": 170,
     "metadata": {},
     "output_type": "execute_result"
    }
   ],
   "source": [
    "#OrdinalEncoding\n",
    "oe=OrdinalEncoder(categories=[[\"male\",\"female\"]])\n",
    "x_train_sex=oe.fit_transform(x_train[[\"sex\"]])\n",
    "x_train_sex.shape"
   ]
  },
  {
   "cell_type": "code",
   "execution_count": 172,
   "id": "91c9517e-9b0e-476f-8909-b5a52f303952",
   "metadata": {},
   "outputs": [
    {
     "data": {
      "text/plain": [
       "(1070, 4)"
      ]
     },
     "execution_count": 172,
     "metadata": {},
     "output_type": "execute_result"
    }
   ],
   "source": [
    "#one hot encoding\n",
    "ohe=OneHotEncoder(drop=\"first\",sparse_output=False)\n",
    "x_train_smoker_region=ohe.fit_transform(x_train[[\"smoker\",\"region\"]])\n",
    "x_train_smoker_region.shape"
   ]
  },
  {
   "cell_type": "code",
   "execution_count": 174,
   "id": "28766398-7421-4170-a4c7-6b8c5354d63e",
   "metadata": {},
   "outputs": [
    {
     "data": {
      "text/plain": [
       "(1070, 3)"
      ]
     },
     "execution_count": 174,
     "metadata": {},
     "output_type": "execute_result"
    }
   ],
   "source": [
    "#Extracting Age\n",
    "x_train_num=x_train.drop(columns=[\"sex\",\"smoker\",\"region\"]).values\n",
    "\n",
    "x_train_num.shape"
   ]
  },
  {
   "cell_type": "code",
   "execution_count": 182,
   "id": "a82cd370-424a-42c4-8cc4-208420ec76c1",
   "metadata": {},
   "outputs": [],
   "source": [
    "x_train_transformed=np.concatenate((x_train_num,x_train_smoker_region,x_train_sex),axis=1)"
   ]
  },
  {
   "cell_type": "code",
   "execution_count": 184,
   "id": "d8444f3f-af26-4e5c-bc32-4601be372d20",
   "metadata": {},
   "outputs": [
    {
     "data": {
      "text/plain": [
       "(1070, 8)"
      ]
     },
     "execution_count": 184,
     "metadata": {},
     "output_type": "execute_result"
    }
   ],
   "source": [
    "x_train_transformed.shape"
   ]
  },
  {
   "cell_type": "code",
   "execution_count": 131,
   "id": "f4294d58-0ad9-4577-8e73-8c63de26e03f",
   "metadata": {},
   "outputs": [],
   "source": [
    "from sklearn.compose import ColumnTransformer\n",
    "from sklearn.preprocessing import OrdinalEncoder, OneHotEncoder\n",
    "\n",
    "transformer = ColumnTransformer(\n",
    "    transformers=[\n",
    "        (\"tnf1\", OrdinalEncoder(categories=[[\"male\", \"female\"]]), [\"sex\"]),\n",
    "        (\"tnf3\", OneHotEncoder(sparse_output=False, drop=\"first\"), [\"smoker\", \"region\"])\n",
    "    ],\n",
    "    remainder=\"passthrough\"  # keeps age, bmi, children unchanged\n",
    ")\n",
    "\n"
   ]
  },
  {
   "cell_type": "code",
   "execution_count": 139,
   "id": "4c5054fd-45e4-408a-8503-97c2270fffa1",
   "metadata": {},
   "outputs": [],
   "source": [
    "a=transformer.fit_transform(x_train)"
   ]
  },
  {
   "cell_type": "code",
   "execution_count": 141,
   "id": "b02ad0bd-a122-4ab8-9059-4abf6228e4bf",
   "metadata": {},
   "outputs": [
    {
     "data": {
      "text/plain": [
       "(1070, 8)"
      ]
     },
     "execution_count": 141,
     "metadata": {},
     "output_type": "execute_result"
    }
   ],
   "source": [
    "a.shape"
   ]
  },
  {
   "cell_type": "code",
   "execution_count": null,
   "id": "4742cb32-4523-4228-a8f7-cfddc6b05669",
   "metadata": {},
   "outputs": [],
   "source": []
  },
  {
   "cell_type": "code",
   "execution_count": null,
   "id": "a3fe8395-cc41-4b89-9b7c-8a185cfde836",
   "metadata": {},
   "outputs": [],
   "source": []
  }
 ],
 "metadata": {
  "kernelspec": {
   "display_name": "Python 3 (ipykernel)",
   "language": "python",
   "name": "python3"
  },
  "language_info": {
   "codemirror_mode": {
    "name": "ipython",
    "version": 3
   },
   "file_extension": ".py",
   "mimetype": "text/x-python",
   "name": "python",
   "nbconvert_exporter": "python",
   "pygments_lexer": "ipython3",
   "version": "3.12.4"
  }
 },
 "nbformat": 4,
 "nbformat_minor": 5
}
