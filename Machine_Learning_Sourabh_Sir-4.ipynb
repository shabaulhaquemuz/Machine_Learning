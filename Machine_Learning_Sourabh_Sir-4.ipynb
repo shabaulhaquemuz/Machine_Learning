{
 "cells": [
  {
   "cell_type": "code",
   "execution_count": 1,
   "id": "7d925de0-46ac-4ae3-850e-0d6bb5f77279",
   "metadata": {},
   "outputs": [],
   "source": [
    "#ColumnTransformer\n",
    "#This is a container in which we can store our steps of process\n",
    "#ColumnTransformer(transformers=[[\"constant\",\n",
    "#                                 \"approach/rule\",\"columns name\"\n",
    "#                                ]])"
   ]
  },
  {
   "cell_type": "code",
   "execution_count": 3,
   "id": "316933d5-73b9-4eb2-88eb-acd30179d723",
   "metadata": {},
   "outputs": [],
   "source": [
    "#Task:\n",
    "#covid_datasets----> divide training and testing sets\n",
    "#x_train data--->1-1 column preprocess --->all column shape total\n",
    "#column transformer--> same shape\n"
   ]
  },
  {
   "cell_type": "code",
   "execution_count": 5,
   "id": "0590272b-9ed1-4b23-908b-1bfeb61d51df",
   "metadata": {},
   "outputs": [],
   "source": [
    "import numpy as np\n",
    "import pandas as pd"
   ]
  },
  {
   "cell_type": "code",
   "execution_count": 9,
   "id": "c34d8fee-ee39-4a65-a889-e186d6f4514e",
   "metadata": {},
   "outputs": [
    {
     "data": {
      "text/html": [
       "<div>\n",
       "<style scoped>\n",
       "    .dataframe tbody tr th:only-of-type {\n",
       "        vertical-align: middle;\n",
       "    }\n",
       "\n",
       "    .dataframe tbody tr th {\n",
       "        vertical-align: top;\n",
       "    }\n",
       "\n",
       "    .dataframe thead th {\n",
       "        text-align: right;\n",
       "    }\n",
       "</style>\n",
       "<table border=\"1\" class=\"dataframe\">\n",
       "  <thead>\n",
       "    <tr style=\"text-align: right;\">\n",
       "      <th></th>\n",
       "      <th>age</th>\n",
       "      <th>gender</th>\n",
       "      <th>fever</th>\n",
       "      <th>cough</th>\n",
       "      <th>city</th>\n",
       "      <th>has_covid</th>\n",
       "    </tr>\n",
       "  </thead>\n",
       "  <tbody>\n",
       "    <tr>\n",
       "      <th>0</th>\n",
       "      <td>60</td>\n",
       "      <td>Male</td>\n",
       "      <td>103.0</td>\n",
       "      <td>Mild</td>\n",
       "      <td>Kolkata</td>\n",
       "      <td>No</td>\n",
       "    </tr>\n",
       "    <tr>\n",
       "      <th>1</th>\n",
       "      <td>27</td>\n",
       "      <td>Male</td>\n",
       "      <td>100.0</td>\n",
       "      <td>Mild</td>\n",
       "      <td>Delhi</td>\n",
       "      <td>Yes</td>\n",
       "    </tr>\n",
       "  </tbody>\n",
       "</table>\n",
       "</div>"
      ],
      "text/plain": [
       "   age gender  fever cough     city has_covid\n",
       "0   60   Male  103.0  Mild  Kolkata        No\n",
       "1   27   Male  100.0  Mild    Delhi       Yes"
      ]
     },
     "execution_count": 9,
     "metadata": {},
     "output_type": "execute_result"
    }
   ],
   "source": [
    "df=pd.read_csv(\"covid_toy.csv\")\n",
    "df.head(2)"
   ]
  },
  {
   "cell_type": "code",
   "execution_count": 11,
   "id": "5cde8af6-04ce-4c0f-bcd3-509f6f3b2816",
   "metadata": {},
   "outputs": [],
   "source": [
    "from sklearn.impute import SimpleImputer\n",
    "from sklearn.preprocessing import OrdinalEncoder\n",
    "from sklearn.preprocessing import OneHotEncoder"
   ]
  },
  {
   "cell_type": "code",
   "execution_count": 13,
   "id": "707d692e-b486-4011-a2fb-82414f47a200",
   "metadata": {},
   "outputs": [],
   "source": [
    "x=df.drop(columns=[\"has_covid\"])\n",
    "y=df[\"has_covid\"]"
   ]
  },
  {
   "cell_type": "code",
   "execution_count": 15,
   "id": "05dfeff9-35f4-40c3-98f0-431b0ea24364",
   "metadata": {},
   "outputs": [],
   "source": [
    "from sklearn.model_selection import train_test_split"
   ]
  },
  {
   "cell_type": "code",
   "execution_count": 17,
   "id": "685f5635-6e94-4903-b5c3-5649d0bffc2d",
   "metadata": {},
   "outputs": [],
   "source": [
    "x_train,x_test,y_train,y_test=train_test_split(x,y,test_size=0.2,random_state=42)"
   ]
  },
  {
   "cell_type": "code",
   "execution_count": 19,
   "id": "86c8ee7a-8ba8-4d06-9d2b-24c14ff8d058",
   "metadata": {},
   "outputs": [
    {
     "data": {
      "text/html": [
       "<div>\n",
       "<style scoped>\n",
       "    .dataframe tbody tr th:only-of-type {\n",
       "        vertical-align: middle;\n",
       "    }\n",
       "\n",
       "    .dataframe tbody tr th {\n",
       "        vertical-align: top;\n",
       "    }\n",
       "\n",
       "    .dataframe thead th {\n",
       "        text-align: right;\n",
       "    }\n",
       "</style>\n",
       "<table border=\"1\" class=\"dataframe\">\n",
       "  <thead>\n",
       "    <tr style=\"text-align: right;\">\n",
       "      <th></th>\n",
       "      <th>age</th>\n",
       "      <th>gender</th>\n",
       "      <th>fever</th>\n",
       "      <th>cough</th>\n",
       "      <th>city</th>\n",
       "    </tr>\n",
       "  </thead>\n",
       "  <tbody>\n",
       "    <tr>\n",
       "      <th>55</th>\n",
       "      <td>81</td>\n",
       "      <td>Female</td>\n",
       "      <td>101.0</td>\n",
       "      <td>Mild</td>\n",
       "      <td>Mumbai</td>\n",
       "    </tr>\n",
       "    <tr>\n",
       "      <th>88</th>\n",
       "      <td>5</td>\n",
       "      <td>Female</td>\n",
       "      <td>100.0</td>\n",
       "      <td>Mild</td>\n",
       "      <td>Kolkata</td>\n",
       "    </tr>\n",
       "  </tbody>\n",
       "</table>\n",
       "</div>"
      ],
      "text/plain": [
       "    age  gender  fever cough     city\n",
       "55   81  Female  101.0  Mild   Mumbai\n",
       "88    5  Female  100.0  Mild  Kolkata"
      ]
     },
     "execution_count": 19,
     "metadata": {},
     "output_type": "execute_result"
    }
   ],
   "source": [
    "x_train.head(2)"
   ]
  },
  {
   "cell_type": "code",
   "execution_count": 21,
   "id": "f1361124-6e0e-496b-898c-1c4185301b45",
   "metadata": {},
   "outputs": [],
   "source": [
    "#Manually Process:"
   ]
  },
  {
   "cell_type": "code",
   "execution_count": 25,
   "id": "18a2be84-da32-4a4b-a130-28f11b4530ea",
   "metadata": {},
   "outputs": [
    {
     "data": {
      "text/plain": [
       "(80, 1)"
      ]
     },
     "execution_count": 25,
     "metadata": {},
     "output_type": "execute_result"
    }
   ],
   "source": [
    "#adding simple imputer to fever column\n",
    "si=SimpleImputer(strategy=\"mean\")\n",
    "x_train_fever=si.fit_transform(x_train[[\"fever\"]])\n",
    "x_train_fever.shape"
   ]
  },
  {
   "cell_type": "code",
   "execution_count": 29,
   "id": "abe38eae-5f20-4810-80b0-93947121fb4f",
   "metadata": {},
   "outputs": [
    {
     "data": {
      "text/plain": [
       "(80, 1)"
      ]
     },
     "execution_count": 29,
     "metadata": {},
     "output_type": "execute_result"
    }
   ],
   "source": [
    "#OrdinalEncoding---cough\n",
    "oe=OrdinalEncoder(categories=[[\"Mild\",\"Strong\"]])\n",
    "x_train_cough=oe.fit_transform(x_train[[\"cough\"]])\n",
    "x_train_cough.shape"
   ]
  },
  {
   "cell_type": "code",
   "execution_count": 31,
   "id": "417716cc-b63d-4325-ba52-d445383ec044",
   "metadata": {},
   "outputs": [
    {
     "data": {
      "text/plain": [
       "(80, 4)"
      ]
     },
     "execution_count": 31,
     "metadata": {},
     "output_type": "execute_result"
    }
   ],
   "source": [
    "#one hot encoding\n",
    "ohe=OneHotEncoder(drop=\"first\",sparse_output=False)\n",
    "x_train_gender_city=ohe.fit_transform(x_train[[\"gender\",\"city\"]])\n",
    "x_train_gender_city.shape"
   ]
  },
  {
   "cell_type": "code",
   "execution_count": 35,
   "id": "13ab01a4-423a-4ec8-aecf-ed9e10b9f809",
   "metadata": {},
   "outputs": [
    {
     "data": {
      "text/plain": [
       "(80, 1)"
      ]
     },
     "execution_count": 35,
     "metadata": {},
     "output_type": "execute_result"
    }
   ],
   "source": [
    "#Extracting Age\n",
    "x_train_age=x_train.drop(columns=[\"gender\",\"fever\",\"cough\",\"city\"]).values\n",
    "x_train_age.shape"
   ]
  },
  {
   "cell_type": "code",
   "execution_count": 37,
   "id": "d18f6d77-da3d-44ee-aaec-853fa9308e51",
   "metadata": {},
   "outputs": [],
   "source": [
    "x_train_transformed=np.concatenate((x_train_age,x_train_fever,x_train_gender_city,x_train_cough),axis=1)"
   ]
  },
  {
   "cell_type": "code",
   "execution_count": 39,
   "id": "f4e0507b-2380-4989-90b7-39e123488500",
   "metadata": {},
   "outputs": [
    {
     "data": {
      "text/plain": [
       "(80, 7)"
      ]
     },
     "execution_count": 39,
     "metadata": {},
     "output_type": "execute_result"
    }
   ],
   "source": [
    "x_train_transformed.shape"
   ]
  },
  {
   "cell_type": "code",
   "execution_count": 53,
   "id": "1707df93-c4b7-4271-9880-d6ce214d08d2",
   "metadata": {},
   "outputs": [],
   "source": [
    "from sklearn.compose import ColumnTransformer\n",
    "\n",
    "\n",
    "transformer = ColumnTransformer(\n",
    "    transformers=[\n",
    "        (\"tnf1\", SimpleImputer(), [\"fever\"]),\n",
    "        (\"tnf2\", OrdinalEncoder(categories=[[\"Mild\", \"Strong\"]]), [\"cough\"]),\n",
    "        (\"tnf3\", OneHotEncoder(sparse_output=False, drop=\"first\"), [\"gender\", \"city\"])\n",
    "    ],\n",
    "    remainder=\"passthrough\"\n",
    ")\n"
   ]
  },
  {
   "cell_type": "code",
   "execution_count": 55,
   "id": "517bd10c-6641-47fe-923b-4b0e810ed824",
   "metadata": {},
   "outputs": [],
   "source": [
    "a=transformer.fit_transform(x_train)"
   ]
  },
  {
   "cell_type": "code",
   "execution_count": 57,
   "id": "939c6ecb-830b-46e6-a92f-63b051b18492",
   "metadata": {},
   "outputs": [
    {
     "data": {
      "text/plain": [
       "(80, 7)"
      ]
     },
     "execution_count": 57,
     "metadata": {},
     "output_type": "execute_result"
    }
   ],
   "source": [
    "a.shape"
   ]
  },
  {
   "cell_type": "code",
   "execution_count": null,
   "id": "7ca2b08c-dc2e-43f6-b009-4a3d354da4be",
   "metadata": {},
   "outputs": [],
   "source": []
  }
 ],
 "metadata": {
  "kernelspec": {
   "display_name": "Python 3 (ipykernel)",
   "language": "python",
   "name": "python3"
  },
  "language_info": {
   "codemirror_mode": {
    "name": "ipython",
    "version": 3
   },
   "file_extension": ".py",
   "mimetype": "text/x-python",
   "name": "python",
   "nbconvert_exporter": "python",
   "pygments_lexer": "ipython3",
   "version": "3.12.4"
  }
 },
 "nbformat": 4,
 "nbformat_minor": 5
}
